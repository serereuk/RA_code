{
 "cells": [
  {
   "cell_type": "code",
   "execution_count": 8,
   "metadata": {},
   "outputs": [],
   "source": [
    "#import plotly\n",
    "import plotly.plotly as py\n",
    "import plotly.graph_objs as go\n",
    "import pandas as pd\n",
    "import numpy as np\n",
    "import matplotlib.pyplot as plt\n",
    "import seaborn as sns\n",
    "import os\n",
    "import plotly\n",
    "from tqdm import tnrange\n",
    "plotly.tools.set_credentials_file(username='serereuk', api_key='KrI0ugSnjcltrwQkSmbO')\n",
    "#%matplotlib inline\n",
    "#%matplotlib widget"
   ]
  },
  {
   "cell_type": "code",
   "execution_count": 9,
   "metadata": {},
   "outputs": [],
   "source": [
    "os.chdir('/Users/Wook-Young/Desktop/RA/code/RA_code/11주차/')\n",
    "os.chdir(os.getcwd()+'/eyetracking_intention/s01/eyetrack')"
   ]
  },
  {
   "cell_type": "code",
   "execution_count": 10,
   "metadata": {},
   "outputs": [],
   "source": [
    "data = pd.read_csv('s011.txt')"
   ]
  },
  {
   "cell_type": "code",
   "execution_count": 11,
   "metadata": {},
   "outputs": [
    {
     "data": {
      "text/html": [
       "<div>\n",
       "<style scoped>\n",
       "    .dataframe tbody tr th:only-of-type {\n",
       "        vertical-align: middle;\n",
       "    }\n",
       "\n",
       "    .dataframe tbody tr th {\n",
       "        vertical-align: top;\n",
       "    }\n",
       "\n",
       "    .dataframe thead th {\n",
       "        text-align: right;\n",
       "    }\n",
       "</style>\n",
       "<table border=\"1\" class=\"dataframe\">\n",
       "  <thead>\n",
       "    <tr style=\"text-align: right;\">\n",
       "      <th></th>\n",
       "      <th>ATT</th>\n",
       "      <th>ADT</th>\n",
       "      <th>ALX</th>\n",
       "      <th>ALY</th>\n",
       "      <th>ARI</th>\n",
       "      <th>APW</th>\n",
       "      <th>APH</th>\n",
       "      <th>AQU</th>\n",
       "      <th>AFX</th>\n",
       "      <th>BTT</th>\n",
       "      <th>BDT</th>\n",
       "      <th>BLX</th>\n",
       "      <th>BLY</th>\n",
       "      <th>BRI</th>\n",
       "      <th>BPW</th>\n",
       "      <th>BPH</th>\n",
       "      <th>BQU</th>\n",
       "      <th>BFX</th>\n",
       "      <th>CNT</th>\n",
       "      <th>MRK</th>\n",
       "    </tr>\n",
       "  </thead>\n",
       "  <tbody>\n",
       "    <tr>\n",
       "      <th>77710</th>\n",
       "      <td>1296.2993</td>\n",
       "      <td>16.6711</td>\n",
       "      <td>0.6831</td>\n",
       "      <td>0.6584</td>\n",
       "      <td>-1</td>\n",
       "      <td>0.1597</td>\n",
       "      <td>0.0942</td>\n",
       "      <td>1</td>\n",
       "      <td>0.1501</td>\n",
       "      <td>1296.2953</td>\n",
       "      <td>16.7231</td>\n",
       "      <td>0.5964</td>\n",
       "      <td>0.7429</td>\n",
       "      <td>-1</td>\n",
       "      <td>0.1768</td>\n",
       "      <td>0.1115</td>\n",
       "      <td>1</td>\n",
       "      <td>0.0167</td>\n",
       "      <td>77710</td>\n",
       "      <td>\"</td>\n",
       "    </tr>\n",
       "    <tr>\n",
       "      <th>77711</th>\n",
       "      <td>1296.3160</td>\n",
       "      <td>16.6918</td>\n",
       "      <td>0.6967</td>\n",
       "      <td>0.6404</td>\n",
       "      <td>-1</td>\n",
       "      <td>0.1795</td>\n",
       "      <td>0.1299</td>\n",
       "      <td>1</td>\n",
       "      <td>0.1668</td>\n",
       "      <td>1296.3120</td>\n",
       "      <td>16.6784</td>\n",
       "      <td>0.5786</td>\n",
       "      <td>0.7467</td>\n",
       "      <td>-1</td>\n",
       "      <td>0.1647</td>\n",
       "      <td>0.1153</td>\n",
       "      <td>1</td>\n",
       "      <td>0.0167</td>\n",
       "      <td>77711</td>\n",
       "      <td>\"</td>\n",
       "    </tr>\n",
       "    <tr>\n",
       "      <th>77712</th>\n",
       "      <td>1296.3327</td>\n",
       "      <td>16.7119</td>\n",
       "      <td>0.6883</td>\n",
       "      <td>0.6307</td>\n",
       "      <td>-1</td>\n",
       "      <td>0.1854</td>\n",
       "      <td>0.1354</td>\n",
       "      <td>1</td>\n",
       "      <td>0.1835</td>\n",
       "      <td>1296.3287</td>\n",
       "      <td>16.7150</td>\n",
       "      <td>0.5932</td>\n",
       "      <td>0.7454</td>\n",
       "      <td>-1</td>\n",
       "      <td>0.1571</td>\n",
       "      <td>0.1135</td>\n",
       "      <td>1</td>\n",
       "      <td>0.0167</td>\n",
       "      <td>77712</td>\n",
       "      <td>\"</td>\n",
       "    </tr>\n",
       "    <tr>\n",
       "      <th>77713</th>\n",
       "      <td>1296.3493</td>\n",
       "      <td>16.6462</td>\n",
       "      <td>0.6924</td>\n",
       "      <td>0.6400</td>\n",
       "      <td>-1</td>\n",
       "      <td>0.1835</td>\n",
       "      <td>0.1343</td>\n",
       "      <td>1</td>\n",
       "      <td>0.2002</td>\n",
       "      <td>1296.3453</td>\n",
       "      <td>16.6440</td>\n",
       "      <td>0.5925</td>\n",
       "      <td>0.7518</td>\n",
       "      <td>-1</td>\n",
       "      <td>0.1611</td>\n",
       "      <td>0.1035</td>\n",
       "      <td>1</td>\n",
       "      <td>0.0166</td>\n",
       "      <td>77713</td>\n",
       "      <td>\"</td>\n",
       "    </tr>\n",
       "    <tr>\n",
       "      <th>77714</th>\n",
       "      <td>1296.3660</td>\n",
       "      <td>16.6569</td>\n",
       "      <td>0.6922</td>\n",
       "      <td>0.6408</td>\n",
       "      <td>-1</td>\n",
       "      <td>0.1822</td>\n",
       "      <td>0.1234</td>\n",
       "      <td>1</td>\n",
       "      <td>0.2168</td>\n",
       "      <td>1296.3621</td>\n",
       "      <td>16.7166</td>\n",
       "      <td>0.5960</td>\n",
       "      <td>0.7447</td>\n",
       "      <td>-1</td>\n",
       "      <td>0.1592</td>\n",
       "      <td>0.1029</td>\n",
       "      <td>1</td>\n",
       "      <td>0.0167</td>\n",
       "      <td>77714</td>\n",
       "      <td>\"</td>\n",
       "    </tr>\n",
       "  </tbody>\n",
       "</table>\n",
       "</div>"
      ],
      "text/plain": [
       "             ATT      ADT     ALX     ALY  ARI     APW     APH  AQU     AFX  \\\n",
       "77710  1296.2993  16.6711  0.6831  0.6584   -1  0.1597  0.0942    1  0.1501   \n",
       "77711  1296.3160  16.6918  0.6967  0.6404   -1  0.1795  0.1299    1  0.1668   \n",
       "77712  1296.3327  16.7119  0.6883  0.6307   -1  0.1854  0.1354    1  0.1835   \n",
       "77713  1296.3493  16.6462  0.6924  0.6400   -1  0.1835  0.1343    1  0.2002   \n",
       "77714  1296.3660  16.6569  0.6922  0.6408   -1  0.1822  0.1234    1  0.2168   \n",
       "\n",
       "             BTT      BDT     BLX     BLY  BRI     BPW     BPH  BQU     BFX  \\\n",
       "77710  1296.2953  16.7231  0.5964  0.7429   -1  0.1768  0.1115    1  0.0167   \n",
       "77711  1296.3120  16.6784  0.5786  0.7467   -1  0.1647  0.1153    1  0.0167   \n",
       "77712  1296.3287  16.7150  0.5932  0.7454   -1  0.1571  0.1135    1  0.0167   \n",
       "77713  1296.3453  16.6440  0.5925  0.7518   -1  0.1611  0.1035    1  0.0166   \n",
       "77714  1296.3621  16.7166  0.5960  0.7447   -1  0.1592  0.1029    1  0.0167   \n",
       "\n",
       "         CNT MRK  \n",
       "77710  77710   \"  \n",
       "77711  77711   \"  \n",
       "77712  77712   \"  \n",
       "77713  77713   \"  \n",
       "77714  77714   \"  "
      ]
     },
     "execution_count": 11,
     "metadata": {},
     "output_type": "execute_result"
    }
   ],
   "source": [
    "data.tail()"
   ]
  },
  {
   "cell_type": "code",
   "execution_count": 12,
   "metadata": {},
   "outputs": [
    {
     "data": {
      "text/plain": [
       "<matplotlib.axes._subplots.AxesSubplot at 0x1a181bb630>"
      ]
     },
     "execution_count": 12,
     "metadata": {},
     "output_type": "execute_result"
    },
    {
     "data": {
      "image/png": "[encoded data removed]",
      "text/plain": [
       "<Figure size 432x288 with 1 Axes>"
      ]
     },
     "metadata": {
      "needs_background": "light"
     },
     "output_type": "display_data"
    }
   ],
   "source": [
    "sns.lineplot(x='ATT', y='APW', data=data)"
   ]
  },
  {
   "cell_type": "code",
   "execution_count": 13,
   "metadata": {},
   "outputs": [],
   "source": [
    "ti=[0,7.29, 187.51, 289.11, 455.07, 522.97, 702.98, 776.77, 953.13, 1030.84, 1151.41,1296.3661]"
   ]
  },
  {
   "cell_type": "code",
   "execution_count": 14,
   "metadata": {},
   "outputs": [
    {
     "data": {
      "application/vnd.jupyter.widget-view+json": {
       "model_id": "94a4a5f4b8004b90bf92cc11ef0e6781",
       "version_major": 2,
       "version_minor": 0
      },
      "text/plain": [
       "HBox(children=(IntProgress(value=0, max=11), HTML(value='')))"
      ]
     },
     "metadata": {},
     "output_type": "display_data"
    },
    {
     "name": "stdout",
     "output_type": "stream",
     "text": [
      "\n"
     ]
    }
   ],
   "source": [
    "ti_apw = []; ti_aph = []; labeling = []; mi_apw = []; mi_aph = []; vi_apw = []; vi_aph = []\n",
    "for i in tnrange(len(ti)-1):\n",
    "    temp = data.loc[(data.ATT >= ti[i]) & (data.ATT < ti[i+1])]\n",
    "    for t in range(len(temp)):\n",
    "        ti_apw.append(np.mean(temp.APW))\n",
    "        ti_aph.append(np.mean(temp.APH))\n",
    "        mi_apw.append(np.median(temp.APW))\n",
    "        mi_aph.append(np.median(temp.APH))\n",
    "        vi_apw.append(np.cov(temp.APW))\n",
    "        vi_aph.append(np.cov(temp.APH))\n",
    "        if t == len(temp)-1:\n",
    "            labeling.append(1)\n",
    "        else:\n",
    "            labeling.append(0)"
   ]
  },
  {
   "cell_type": "code",
   "execution_count": 15,
   "metadata": {},
   "outputs": [],
   "source": [
    "data['label'] = pd.cut(data.ATT, ti, include_lowest=True, labels =False)"
   ]
  },
  {
   "cell_type": "code",
   "execution_count": 16,
   "metadata": {},
   "outputs": [
    {
     "data": {
      "text/plain": [
       "(12, 77715, 77715, 77715, 77715)"
      ]
     },
     "execution_count": 16,
     "metadata": {},
     "output_type": "execute_result"
    }
   ],
   "source": [
    "len(ti), len(ti_apw), len(ti_aph), len(data), len(labeling)"
   ]
  },
  {
   "cell_type": "markdown",
   "metadata": {},
   "source": [
    "\n",
    "Video start\t522.97\n",
    "Video finish\t702.98\n",
    "\n",
    "Cross Onset\t702.99\n",
    "\n",
    "Engagement scale start\t705.99\n",
    "Engagement scale finish\t709.58\n",
    "\n",
    "Intention selection start\t709.58\n",
    "Intention selection finished_#1:\t715.24\n",
    "Intention selection finished_#2:\t722.16\n",
    "Intention selection finished_#3:\t725.55\n",
    "Intention selection finished_#4:\t730.36\n",
    "Intention selection finished_#5:\t735.72\n",
    "Intention selection finished_#6:\t745.00\n",
    "Intention selection finished_#7:\t747.07\n",
    "Intention selection finished_#8:\t754.07\n",
    "\n",
    "Emotion scale start\t754.08\n",
    "Emotion scale finished_#1:\t757.98\n",
    "Emotion scale finished_#2:\t762.64\n",
    "Emotion scale finished_#3:\t765.74\n",
    "\n",
    "Cross Onset\t765.75\n"
   ]
  },
  {
   "cell_type": "code",
   "execution_count": 17,
   "metadata": {},
   "outputs": [
    {
     "data": {
      "text/html": [
       "<script type=\"text/javascript\">window.PlotlyConfig = {MathJaxConfig: 'local'};</script><script type=\"text/javascript\">if (window.MathJax) {MathJax.Hub.Config({SVG: {font: \"STIX-Web\"}});}</script><script>requirejs.config({paths: { 'plotly': ['https://cdn.plot.ly/plotly-latest.min']},});if(!window._Plotly) {require(['plotly'],function(plotly) {window._Plotly=plotly;});}</script>"
      ],
      "text/vnd.plotly.v1+html": [
       "<script type=\"text/javascript\">window.PlotlyConfig = {MathJaxConfig: 'local'};</script><script type=\"text/javascript\">if (window.MathJax) {MathJax.Hub.Config({SVG: {font: \"STIX-Web\"}});}</script><script>requirejs.config({paths: { 'plotly': ['https://cdn.plot.ly/plotly-latest.min']},});if(!window._Plotly) {require(['plotly'],function(plotly) {window._Plotly=plotly;});}</script>"
      ]
     },
     "metadata": {},
     "output_type": "display_data"
    },
    {
     "name": "stderr",
     "output_type": "stream",
     "text": [
      "/anaconda3/lib/python3.7/site-packages/plotly/plotly/plotly.py:248: UserWarning:\n",
      "\n",
      "Woah there! Look at all those points! Due to browser limitations, the Plotly SVG drawing functions have a hard time graphing more than 500k data points for line charts, or 40k points for other types of charts. Here are some suggestions:\n",
      "(1) Use the `plotly.graph_objs.Scattergl` trace object to generate a WebGl graph.\n",
      "(2) Trying using the image API to return an image instead of a graph URL\n",
      "(3) Use matplotlib\n",
      "(4) See if you can create your visualization with fewer data points\n",
      "\n",
      "If the visualization you're using aggregates points (e.g., box plot, histogram, etc.) you can disregard this warning.\n",
      "\n",
      "/anaconda3/lib/python3.7/site-packages/plotly/plotly/plotly.py:248: UserWarning:\n",
      "\n",
      "Woah there! Look at all those points! Due to browser limitations, the Plotly SVG drawing functions have a hard time graphing more than 500k data points for line charts, or 40k points for other types of charts. Here are some suggestions:\n",
      "(1) Use the `plotly.graph_objs.Scattergl` trace object to generate a WebGl graph.\n",
      "(2) Trying using the image API to return an image instead of a graph URL\n",
      "(3) Use matplotlib\n",
      "(4) See if you can create your visualization with fewer data points\n",
      "\n",
      "If the visualization you're using aggregates points (e.g., box plot, histogram, etc.) you can disregard this warning.\n",
      "\n",
      "/anaconda3/lib/python3.7/site-packages/plotly/plotly/plotly.py:248: UserWarning:\n",
      "\n",
      "Woah there! Look at all those points! Due to browser limitations, the Plotly SVG drawing functions have a hard time graphing more than 500k data points for line charts, or 40k points for other types of charts. Here are some suggestions:\n",
      "(1) Use the `plotly.graph_objs.Scattergl` trace object to generate a WebGl graph.\n",
      "(2) Trying using the image API to return an image instead of a graph URL\n",
      "(3) Use matplotlib\n",
      "(4) See if you can create your visualization with fewer data points\n",
      "\n",
      "If the visualization you're using aggregates points (e.g., box plot, histogram, etc.) you can disregard this warning.\n",
      "\n",
      "/anaconda3/lib/python3.7/site-packages/plotly/plotly/plotly.py:248: UserWarning:\n",
      "\n",
      "Woah there! Look at all those points! Due to browser limitations, the Plotly SVG drawing functions have a hard time graphing more than 500k data points for line charts, or 40k points for other types of charts. Here are some suggestions:\n",
      "(1) Use the `plotly.graph_objs.Scattergl` trace object to generate a WebGl graph.\n",
      "(2) Trying using the image API to return an image instead of a graph URL\n",
      "(3) Use matplotlib\n",
      "(4) See if you can create your visualization with fewer data points\n",
      "\n",
      "If the visualization you're using aggregates points (e.g., box plot, histogram, etc.) you can disregard this warning.\n",
      "\n",
      "/anaconda3/lib/python3.7/site-packages/plotly/plotly/plotly.py:248: UserWarning:\n",
      "\n",
      "Woah there! Look at all those points! Due to browser limitations, the Plotly SVG drawing functions have a hard time graphing more than 500k data points for line charts, or 40k points for other types of charts. Here are some suggestions:\n",
      "(1) Use the `plotly.graph_objs.Scattergl` trace object to generate a WebGl graph.\n",
      "(2) Trying using the image API to return an image instead of a graph URL\n",
      "(3) Use matplotlib\n",
      "(4) See if you can create your visualization with fewer data points\n",
      "\n",
      "If the visualization you're using aggregates points (e.g., box plot, histogram, etc.) you can disregard this warning.\n",
      "\n",
      "/anaconda3/lib/python3.7/site-packages/plotly/plotly/plotly.py:248: UserWarning:\n",
      "\n",
      "Woah there! Look at all those points! Due to browser limitations, the Plotly SVG drawing functions have a hard time graphing more than 500k data points for line charts, or 40k points for other types of charts. Here are some suggestions:\n",
      "(1) Use the `plotly.graph_objs.Scattergl` trace object to generate a WebGl graph.\n",
      "(2) Trying using the image API to return an image instead of a graph URL\n",
      "(3) Use matplotlib\n",
      "(4) See if you can create your visualization with fewer data points\n",
      "\n",
      "If the visualization you're using aggregates points (e.g., box plot, histogram, etc.) you can disregard this warning.\n",
      "\n",
      "/anaconda3/lib/python3.7/site-packages/plotly/plotly/plotly.py:248: UserWarning:\n",
      "\n",
      "Woah there! Look at all those points! Due to browser limitations, the Plotly SVG drawing functions have a hard time graphing more than 500k data points for line charts, or 40k points for other types of charts. Here are some suggestions:\n",
      "(1) Use the `plotly.graph_objs.Scattergl` trace object to generate a WebGl graph.\n",
      "(2) Trying using the image API to return an image instead of a graph URL\n",
      "(3) Use matplotlib\n",
      "(4) See if you can create your visualization with fewer data points\n",
      "\n",
      "If the visualization you're using aggregates points (e.g., box plot, histogram, etc.) you can disregard this warning.\n",
      "\n",
      "/anaconda3/lib/python3.7/site-packages/plotly/plotly/plotly.py:248: UserWarning:\n",
      "\n",
      "Woah there! Look at all those points! Due to browser limitations, the Plotly SVG drawing functions have a hard time graphing more than 500k data points for line charts, or 40k points for other types of charts. Here are some suggestions:\n",
      "(1) Use the `plotly.graph_objs.Scattergl` trace object to generate a WebGl graph.\n",
      "(2) Trying using the image API to return an image instead of a graph URL\n",
      "(3) Use matplotlib\n",
      "(4) See if you can create your visualization with fewer data points\n",
      "\n",
      "If the visualization you're using aggregates points (e.g., box plot, histogram, etc.) you can disregard this warning.\n",
      "\n"
     ]
    },
    {
     "name": "stdout",
     "output_type": "stream",
     "text": [
      "The draw time for this plot will be slow for all clients.\n"
     ]
    },
    {
     "name": "stderr",
     "output_type": "stream",
     "text": [
      "/anaconda3/lib/python3.7/site-packages/plotly/api/v1/clientresp.py:40: UserWarning:\n",
      "\n",
      "Estimated Draw Time Too Long\n",
      "\n",
      "/anaconda3/lib/python3.7/site-packages/IPython/core/display.py:689: UserWarning:\n",
      "\n",
      "Consider using IPython.display.IFrame instead\n",
      "\n"
     ]
    },
    {
     "data": {
      "text/html": [
       "<iframe id=\"igraph\" scrolling=\"no\" style=\"border:none;\" seamless=\"seamless\" src=\"https://plot.ly/~serereuk/16.embed\" height=\"525px\" width=\"100%\"></iframe>"
      ],
      "text/plain": [
       "<plotly.tools.PlotlyDisplay object>"
      ]
     },
     "execution_count": 17,
     "metadata": {},
     "output_type": "execute_result"
    }
   ],
   "source": [
    "apw=go.Scatter(x = data.ATT.tolist(), y= data.APW.tolist(), line = dict(color = \"#17BECF\"), opacity = 0.8)\n",
    "mean=go.Scatter(x = data.ATT.tolist(), y = ti_apw, line = dict(color = '#7F7F7F'), opacity = 0.8)\n",
    "lb = go.Scatter(x = data.ATT.tolist(), y = labeling, line = dict(color = 'red'), opacity = 0.8)\n",
    "median = go.Scatter(x = data.ATT.tolist(), y = mi_apw, line = dict(color = 'green'), opacity = 0.8)\n",
    "apw = [apw, mean, lb, median]\n",
    "layout = dict(xaxis=dict(rangeselector=dict(buttons=[dict(step='all')]) ,rangeslider=dict(visible = True)))\n",
    "fig = dict(data=apw, layout=layout)\n",
    "plotly.offline.init_notebook_mode(connected=True)\n",
    "py.iplot(fig)"
   ]
  },
  {
   "cell_type": "code",
   "execution_count": 18,
   "metadata": {},
   "outputs": [
    {
     "data": {
      "text/html": [
       "<script type=\"text/javascript\">window.PlotlyConfig = {MathJaxConfig: 'local'};</script><script type=\"text/javascript\">if (window.MathJax) {MathJax.Hub.Config({SVG: {font: \"STIX-Web\"}});}</script><script>requirejs.config({paths: { 'plotly': ['https://cdn.plot.ly/plotly-latest.min']},});if(!window._Plotly) {require(['plotly'],function(plotly) {window._Plotly=plotly;});}</script>"
      ],
      "text/vnd.plotly.v1+html": [
       "<script type=\"text/javascript\">window.PlotlyConfig = {MathJaxConfig: 'local'};</script><script type=\"text/javascript\">if (window.MathJax) {MathJax.Hub.Config({SVG: {font: \"STIX-Web\"}});}</script><script>requirejs.config({paths: { 'plotly': ['https://cdn.plot.ly/plotly-latest.min']},});if(!window._Plotly) {require(['plotly'],function(plotly) {window._Plotly=plotly;});}</script>"
      ]
     },
     "metadata": {},
     "output_type": "display_data"
    },
    {
     "name": "stderr",
     "output_type": "stream",
     "text": [
      "/anaconda3/lib/python3.7/site-packages/plotly/plotly/plotly.py:248: UserWarning:\n",
      "\n",
      "Woah there! Look at all those points! Due to browser limitations, the Plotly SVG drawing functions have a hard time graphing more than 500k data points for line charts, or 40k points for other types of charts. Here are some suggestions:\n",
      "(1) Use the `plotly.graph_objs.Scattergl` trace object to generate a WebGl graph.\n",
      "(2) Trying using the image API to return an image instead of a graph URL\n",
      "(3) Use matplotlib\n",
      "(4) See if you can create your visualization with fewer data points\n",
      "\n",
      "If the visualization you're using aggregates points (e.g., box plot, histogram, etc.) you can disregard this warning.\n",
      "\n",
      "/anaconda3/lib/python3.7/site-packages/plotly/plotly/plotly.py:248: UserWarning:\n",
      "\n",
      "Woah there! Look at all those points! Due to browser limitations, the Plotly SVG drawing functions have a hard time graphing more than 500k data points for line charts, or 40k points for other types of charts. Here are some suggestions:\n",
      "(1) Use the `plotly.graph_objs.Scattergl` trace object to generate a WebGl graph.\n",
      "(2) Trying using the image API to return an image instead of a graph URL\n",
      "(3) Use matplotlib\n",
      "(4) See if you can create your visualization with fewer data points\n",
      "\n",
      "If the visualization you're using aggregates points (e.g., box plot, histogram, etc.) you can disregard this warning.\n",
      "\n",
      "/anaconda3/lib/python3.7/site-packages/plotly/plotly/plotly.py:248: UserWarning:\n",
      "\n",
      "Woah there! Look at all those points! Due to browser limitations, the Plotly SVG drawing functions have a hard time graphing more than 500k data points for line charts, or 40k points for other types of charts. Here are some suggestions:\n",
      "(1) Use the `plotly.graph_objs.Scattergl` trace object to generate a WebGl graph.\n",
      "(2) Trying using the image API to return an image instead of a graph URL\n",
      "(3) Use matplotlib\n",
      "(4) See if you can create your visualization with fewer data points\n",
      "\n",
      "If the visualization you're using aggregates points (e.g., box plot, histogram, etc.) you can disregard this warning.\n",
      "\n",
      "/anaconda3/lib/python3.7/site-packages/plotly/plotly/plotly.py:248: UserWarning:\n",
      "\n",
      "Woah there! Look at all those points! Due to browser limitations, the Plotly SVG drawing functions have a hard time graphing more than 500k data points for line charts, or 40k points for other types of charts. Here are some suggestions:\n",
      "(1) Use the `plotly.graph_objs.Scattergl` trace object to generate a WebGl graph.\n",
      "(2) Trying using the image API to return an image instead of a graph URL\n",
      "(3) Use matplotlib\n",
      "(4) See if you can create your visualization with fewer data points\n",
      "\n",
      "If the visualization you're using aggregates points (e.g., box plot, histogram, etc.) you can disregard this warning.\n",
      "\n",
      "/anaconda3/lib/python3.7/site-packages/plotly/plotly/plotly.py:248: UserWarning:\n",
      "\n",
      "Woah there! Look at all those points! Due to browser limitations, the Plotly SVG drawing functions have a hard time graphing more than 500k data points for line charts, or 40k points for other types of charts. Here are some suggestions:\n",
      "(1) Use the `plotly.graph_objs.Scattergl` trace object to generate a WebGl graph.\n",
      "(2) Trying using the image API to return an image instead of a graph URL\n",
      "(3) Use matplotlib\n",
      "(4) See if you can create your visualization with fewer data points\n",
      "\n",
      "If the visualization you're using aggregates points (e.g., box plot, histogram, etc.) you can disregard this warning.\n",
      "\n",
      "/anaconda3/lib/python3.7/site-packages/plotly/plotly/plotly.py:248: UserWarning:\n",
      "\n",
      "Woah there! Look at all those points! Due to browser limitations, the Plotly SVG drawing functions have a hard time graphing more than 500k data points for line charts, or 40k points for other types of charts. Here are some suggestions:\n",
      "(1) Use the `plotly.graph_objs.Scattergl` trace object to generate a WebGl graph.\n",
      "(2) Trying using the image API to return an image instead of a graph URL\n",
      "(3) Use matplotlib\n",
      "(4) See if you can create your visualization with fewer data points\n",
      "\n",
      "If the visualization you're using aggregates points (e.g., box plot, histogram, etc.) you can disregard this warning.\n",
      "\n",
      "/anaconda3/lib/python3.7/site-packages/plotly/plotly/plotly.py:248: UserWarning:\n",
      "\n",
      "Woah there! Look at all those points! Due to browser limitations, the Plotly SVG drawing functions have a hard time graphing more than 500k data points for line charts, or 40k points for other types of charts. Here are some suggestions:\n",
      "(1) Use the `plotly.graph_objs.Scattergl` trace object to generate a WebGl graph.\n",
      "(2) Trying using the image API to return an image instead of a graph URL\n",
      "(3) Use matplotlib\n",
      "(4) See if you can create your visualization with fewer data points\n",
      "\n",
      "If the visualization you're using aggregates points (e.g., box plot, histogram, etc.) you can disregard this warning.\n",
      "\n",
      "/anaconda3/lib/python3.7/site-packages/plotly/plotly/plotly.py:248: UserWarning:\n",
      "\n",
      "Woah there! Look at all those points! Due to browser limitations, the Plotly SVG drawing functions have a hard time graphing more than 500k data points for line charts, or 40k points for other types of charts. Here are some suggestions:\n",
      "(1) Use the `plotly.graph_objs.Scattergl` trace object to generate a WebGl graph.\n",
      "(2) Trying using the image API to return an image instead of a graph URL\n",
      "(3) Use matplotlib\n",
      "(4) See if you can create your visualization with fewer data points\n",
      "\n",
      "If the visualization you're using aggregates points (e.g., box plot, histogram, etc.) you can disregard this warning.\n",
      "\n"
     ]
    },
    {
     "name": "stdout",
     "output_type": "stream",
     "text": [
      "The draw time for this plot will be slow for all clients.\n"
     ]
    },
    {
     "name": "stderr",
     "output_type": "stream",
     "text": [
      "/anaconda3/lib/python3.7/site-packages/plotly/api/v1/clientresp.py:40: UserWarning:\n",
      "\n",
      "Estimated Draw Time Too Long\n",
      "\n",
      "/anaconda3/lib/python3.7/site-packages/IPython/core/display.py:689: UserWarning:\n",
      "\n",
      "Consider using IPython.display.IFrame instead\n",
      "\n"
     ]
    },
    {
     "data": {
      "text/html": [
       "<iframe id=\"igraph\" scrolling=\"no\" style=\"border:none;\" seamless=\"seamless\" src=\"https://plot.ly/~serereuk/18.embed\" height=\"525px\" width=\"100%\"></iframe>"
      ],
      "text/plain": [
       "<plotly.tools.PlotlyDisplay object>"
      ]
     },
     "execution_count": 18,
     "metadata": {},
     "output_type": "execute_result"
    }
   ],
   "source": [
    "aph=go.Scatter(x = data.ATT.tolist(), y= data.APH.tolist(), line = dict(color = \"#17BECF\"), opacity = 0.8)\n",
    "mean=go.Scatter(x = data.ATT.tolist(), y = ti_aph, line = dict(color = '#7F7F7F'), opacity = 0.8)\n",
    "lb = go.Scatter(x = data.ATT.tolist(), y = labeling, line = dict(color = 'red'), opacity = 0.8)\n",
    "median = go.Scatter(x = data.ATT.tolist(), y = mi_aph, line = dict(color = 'green'), opacity = 0.8)\n",
    "apw = [aph, mean, lb, median]\n",
    "layout = dict(xaxis=dict(rangeselector=dict(buttons=[dict(step='all')]) ,rangeslider=dict(visible = True)))\n",
    "fig = dict(data=apw, layout=layout)\n",
    "plotly.offline.init_notebook_mode(connected=True)\n",
    "py.iplot(fig)"
   ]
  },
  {
   "cell_type": "code",
   "execution_count": 19,
   "metadata": {},
   "outputs": [
    {
     "data": {
      "text/html": [
       "<div>\n",
       "<style scoped>\n",
       "    .dataframe tbody tr th:only-of-type {\n",
       "        vertical-align: middle;\n",
       "    }\n",
       "\n",
       "    .dataframe tbody tr th {\n",
       "        vertical-align: top;\n",
       "    }\n",
       "\n",
       "    .dataframe thead th {\n",
       "        text-align: right;\n",
       "    }\n",
       "</style>\n",
       "<table border=\"1\" class=\"dataframe\">\n",
       "  <thead>\n",
       "    <tr style=\"text-align: right;\">\n",
       "      <th></th>\n",
       "      <th>ATT</th>\n",
       "      <th>ADT</th>\n",
       "      <th>ALX</th>\n",
       "      <th>ALY</th>\n",
       "      <th>ARI</th>\n",
       "      <th>APW</th>\n",
       "      <th>APH</th>\n",
       "      <th>AQU</th>\n",
       "      <th>AFX</th>\n",
       "      <th>BTT</th>\n",
       "      <th>...</th>\n",
       "      <th>BLX</th>\n",
       "      <th>BLY</th>\n",
       "      <th>BRI</th>\n",
       "      <th>BPW</th>\n",
       "      <th>BPH</th>\n",
       "      <th>BQU</th>\n",
       "      <th>BFX</th>\n",
       "      <th>CNT</th>\n",
       "      <th>MRK</th>\n",
       "      <th>label</th>\n",
       "    </tr>\n",
       "  </thead>\n",
       "  <tbody>\n",
       "    <tr>\n",
       "      <th>0</th>\n",
       "      <td>0.0000</td>\n",
       "      <td>0.0000</td>\n",
       "      <td>0.7132</td>\n",
       "      <td>0.3447</td>\n",
       "      <td>-1</td>\n",
       "      <td>0.2288</td>\n",
       "      <td>0.2153</td>\n",
       "      <td>1</td>\n",
       "      <td>0.6672</td>\n",
       "      <td>-0.0075</td>\n",
       "      <td>...</td>\n",
       "      <td>0.5996</td>\n",
       "      <td>0.4064</td>\n",
       "      <td>-1</td>\n",
       "      <td>0.2421</td>\n",
       "      <td>0.2322</td>\n",
       "      <td>1</td>\n",
       "      <td>0.5005</td>\n",
       "      <td>0</td>\n",
       "      <td>=,=,+,+\"</td>\n",
       "      <td>0</td>\n",
       "    </tr>\n",
       "    <tr>\n",
       "      <th>1</th>\n",
       "      <td>0.0167</td>\n",
       "      <td>16.6703</td>\n",
       "      <td>0.7074</td>\n",
       "      <td>0.3471</td>\n",
       "      <td>-1</td>\n",
       "      <td>0.2419</td>\n",
       "      <td>0.2083</td>\n",
       "      <td>1</td>\n",
       "      <td>0.6839</td>\n",
       "      <td>0.0092</td>\n",
       "      <td>...</td>\n",
       "      <td>0.5964</td>\n",
       "      <td>0.4025</td>\n",
       "      <td>-1</td>\n",
       "      <td>0.2547</td>\n",
       "      <td>0.2316</td>\n",
       "      <td>1</td>\n",
       "      <td>0.5171</td>\n",
       "      <td>1</td>\n",
       "      <td>\"</td>\n",
       "      <td>0</td>\n",
       "    </tr>\n",
       "    <tr>\n",
       "      <th>2</th>\n",
       "      <td>0.0334</td>\n",
       "      <td>16.7404</td>\n",
       "      <td>0.7134</td>\n",
       "      <td>0.3473</td>\n",
       "      <td>-1</td>\n",
       "      <td>0.2310</td>\n",
       "      <td>0.2149</td>\n",
       "      <td>1</td>\n",
       "      <td>0.7006</td>\n",
       "      <td>0.0258</td>\n",
       "      <td>...</td>\n",
       "      <td>0.6028</td>\n",
       "      <td>0.4074</td>\n",
       "      <td>-1</td>\n",
       "      <td>0.2384</td>\n",
       "      <td>0.2308</td>\n",
       "      <td>1</td>\n",
       "      <td>0.5337</td>\n",
       "      <td>2</td>\n",
       "      <td>\"</td>\n",
       "      <td>0</td>\n",
       "    </tr>\n",
       "    <tr>\n",
       "      <th>3</th>\n",
       "      <td>0.0500</td>\n",
       "      <td>16.5739</td>\n",
       "      <td>0.7108</td>\n",
       "      <td>0.3473</td>\n",
       "      <td>-1</td>\n",
       "      <td>0.2312</td>\n",
       "      <td>0.2120</td>\n",
       "      <td>1</td>\n",
       "      <td>0.7172</td>\n",
       "      <td>0.0425</td>\n",
       "      <td>...</td>\n",
       "      <td>0.5936</td>\n",
       "      <td>0.4074</td>\n",
       "      <td>-1</td>\n",
       "      <td>0.2559</td>\n",
       "      <td>0.2362</td>\n",
       "      <td>1</td>\n",
       "      <td>0.5504</td>\n",
       "      <td>3</td>\n",
       "      <td>\"</td>\n",
       "      <td>0</td>\n",
       "    </tr>\n",
       "    <tr>\n",
       "      <th>4</th>\n",
       "      <td>0.0668</td>\n",
       "      <td>16.8038</td>\n",
       "      <td>0.7140</td>\n",
       "      <td>0.3481</td>\n",
       "      <td>-1</td>\n",
       "      <td>0.2277</td>\n",
       "      <td>0.2172</td>\n",
       "      <td>1</td>\n",
       "      <td>0.7340</td>\n",
       "      <td>0.0592</td>\n",
       "      <td>...</td>\n",
       "      <td>0.5995</td>\n",
       "      <td>0.4061</td>\n",
       "      <td>-1</td>\n",
       "      <td>0.2431</td>\n",
       "      <td>0.2365</td>\n",
       "      <td>1</td>\n",
       "      <td>0.5672</td>\n",
       "      <td>4</td>\n",
       "      <td>\"</td>\n",
       "      <td>0</td>\n",
       "    </tr>\n",
       "  </tbody>\n",
       "</table>\n",
       "<p>5 rows × 21 columns</p>\n",
       "</div>"
      ],
      "text/plain": [
       "      ATT      ADT     ALX     ALY  ARI     APW     APH  AQU     AFX     BTT  \\\n",
       "0  0.0000   0.0000  0.7132  0.3447   -1  0.2288  0.2153    1  0.6672 -0.0075   \n",
       "1  0.0167  16.6703  0.7074  0.3471   -1  0.2419  0.2083    1  0.6839  0.0092   \n",
       "2  0.0334  16.7404  0.7134  0.3473   -1  0.2310  0.2149    1  0.7006  0.0258   \n",
       "3  0.0500  16.5739  0.7108  0.3473   -1  0.2312  0.2120    1  0.7172  0.0425   \n",
       "4  0.0668  16.8038  0.7140  0.3481   -1  0.2277  0.2172    1  0.7340  0.0592   \n",
       "\n",
       "   ...      BLX     BLY  BRI     BPW     BPH  BQU     BFX  CNT       MRK label  \n",
       "0  ...   0.5996  0.4064   -1  0.2421  0.2322    1  0.5005    0  =,=,+,+\"     0  \n",
       "1  ...   0.5964  0.4025   -1  0.2547  0.2316    1  0.5171    1         \"     0  \n",
       "2  ...   0.6028  0.4074   -1  0.2384  0.2308    1  0.5337    2         \"     0  \n",
       "3  ...   0.5936  0.4074   -1  0.2559  0.2362    1  0.5504    3         \"     0  \n",
       "4  ...   0.5995  0.4061   -1  0.2431  0.2365    1  0.5672    4         \"     0  \n",
       "\n",
       "[5 rows x 21 columns]"
      ]
     },
     "execution_count": 19,
     "metadata": {},
     "output_type": "execute_result"
    }
   ],
   "source": [
    "data.head()"
   ]
  },
  {
   "cell_type": "code",
   "execution_count": 27,
   "metadata": {},
   "outputs": [
    {
     "data": {
      "image/png": "[encoded data removed]",
      "text/plain": [
       "<Figure size 1080x792 with 11 Axes>"
      ]
     },
     "metadata": {
      "needs_background": "light"
     },
     "output_type": "display_data"
    }
   ],
   "source": [
    "g = sns.FacetGrid(data, row = 'label', hue = 'label',aspect=15, height=1)\n",
    "g.map(sns.distplot, \"APW\")\n",
    "#g.set(xlim=(-0.1,0.6))\n",
    "#g.map(sns.kdeplot, 'diffe', clip_on=False, color=\"w\", lw=2, bw=.2)\n",
    "#g.map(plt.axhline, y=0, lw=2, clip_on=False)\n",
    "os.chdir('/Users/Wook-Young/Desktop/RA/code/RA_code/11주차')\n",
    "g.savefig('dist_by label apw.jpg')\n"
   ]
  },
  {
   "cell_type": "code",
   "execution_count": 23,
   "metadata": {},
   "outputs": [
    {
     "data": {
      "text/plain": [
       "'/Users/Wook-Young/Desktop/RA/code/RA_code/11주차/eyetracking_intention/s01/eyetrack'"
      ]
     },
     "execution_count": 23,
     "metadata": {},
     "output_type": "execute_result"
    }
   ],
   "source": [
    "os.getcwd()"
   ]
  },
  {
   "cell_type": "code",
   "execution_count": null,
   "metadata": {},
   "outputs": [],
   "source": []
  }
 ],
 "metadata": {
  "kernelspec": {
   "display_name": "Python 3",
   "language": "python",
   "name": "python3"
  },
  "language_info": {
   "codemirror_mode": {
    "name": "ipython",
    "version": 3
   },
   "file_extension": ".py",
   "mimetype": "text/x-python",
   "name": "python",
   "nbconvert_exporter": "python",
   "pygments_lexer": "ipython3",
   "version": "3.7.1"
  }
 },
 "nbformat": 4,
 "nbformat_minor": 2
}

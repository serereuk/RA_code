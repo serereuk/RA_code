{
 "cells": [
  {
   "cell_type": "code",
   "execution_count": 1,
   "metadata": {},
   "outputs": [],
   "source": [
    "import cv2\n",
    "import pandas as pd\n",
    "import numpy as np\n",
    "import matplotlib.pyplot as plt"
   ]
  },
  {
   "cell_type": "code",
   "execution_count": 2,
   "metadata": {},
   "outputs": [],
   "source": [
    "data = pd.read_csv(\"khc01221.txt\")\n",
    "corrected = pd.read_csv(\"corrected khc.txt\")"
   ]
  },
  {
   "cell_type": "code",
   "execution_count": 3,
   "metadata": {},
   "outputs": [
    {
     "data": {
      "text/plain": [
       "((4974, 20), (4974, 3))"
      ]
     },
     "execution_count": 3,
     "metadata": {},
     "output_type": "execute_result"
    }
   ],
   "source": [
    "data.shape, corrected.shape"
   ]
  },
  {
   "cell_type": "code",
   "execution_count": 4,
   "metadata": {},
   "outputs": [
    {
     "data": {
      "text/html": [
       "<div>\n",
       "<style scoped>\n",
       "    .dataframe tbody tr th:only-of-type {\n",
       "        vertical-align: middle;\n",
       "    }\n",
       "\n",
       "    .dataframe tbody tr th {\n",
       "        vertical-align: top;\n",
       "    }\n",
       "\n",
       "    .dataframe thead th {\n",
       "        text-align: right;\n",
       "    }\n",
       "</style>\n",
       "<table border=\"1\" class=\"dataframe\">\n",
       "  <thead>\n",
       "    <tr style=\"text-align: right;\">\n",
       "      <th></th>\n",
       "      <th>ATT</th>\n",
       "      <th>ADT</th>\n",
       "      <th>ALX</th>\n",
       "      <th>ALY</th>\n",
       "      <th>ARI</th>\n",
       "      <th>APW</th>\n",
       "      <th>APH</th>\n",
       "      <th>AQU</th>\n",
       "      <th>AFX</th>\n",
       "      <th>BTT</th>\n",
       "      <th>BDT</th>\n",
       "      <th>BLX</th>\n",
       "      <th>BLY</th>\n",
       "      <th>BRI</th>\n",
       "      <th>BPW</th>\n",
       "      <th>BPH</th>\n",
       "      <th>BQU</th>\n",
       "      <th>BFX</th>\n",
       "      <th>CNT</th>\n",
       "      <th>MRK</th>\n",
       "    </tr>\n",
       "  </thead>\n",
       "  <tbody>\n",
       "    <tr>\n",
       "      <th>4969</th>\n",
       "      <td>82.9061</td>\n",
       "      <td>16.7239</td>\n",
       "      <td>0.2669</td>\n",
       "      <td>0.2755</td>\n",
       "      <td>-1</td>\n",
       "      <td>0.2202</td>\n",
       "      <td>0.1689</td>\n",
       "      <td>1</td>\n",
       "      <td>0.1001</td>\n",
       "      <td>82.9043</td>\n",
       "      <td>16.6485</td>\n",
       "      <td>0.3415</td>\n",
       "      <td>0.2627</td>\n",
       "      <td>-1</td>\n",
       "      <td>0.2293</td>\n",
       "      <td>0.2101</td>\n",
       "      <td>1</td>\n",
       "      <td>0.0334</td>\n",
       "      <td>4969</td>\n",
       "      <td>\"</td>\n",
       "    </tr>\n",
       "    <tr>\n",
       "      <th>4970</th>\n",
       "      <td>82.9228</td>\n",
       "      <td>16.6524</td>\n",
       "      <td>0.2756</td>\n",
       "      <td>0.2830</td>\n",
       "      <td>-1</td>\n",
       "      <td>0.2207</td>\n",
       "      <td>0.1826</td>\n",
       "      <td>1</td>\n",
       "      <td>0.1167</td>\n",
       "      <td>82.9210</td>\n",
       "      <td>16.7125</td>\n",
       "      <td>0.3428</td>\n",
       "      <td>0.2519</td>\n",
       "      <td>-1</td>\n",
       "      <td>0.2316</td>\n",
       "      <td>0.2070</td>\n",
       "      <td>1</td>\n",
       "      <td>0.0501</td>\n",
       "      <td>4970</td>\n",
       "      <td>\"</td>\n",
       "    </tr>\n",
       "    <tr>\n",
       "      <th>4971</th>\n",
       "      <td>82.9395</td>\n",
       "      <td>16.7147</td>\n",
       "      <td>0.2735</td>\n",
       "      <td>0.2783</td>\n",
       "      <td>-1</td>\n",
       "      <td>0.2269</td>\n",
       "      <td>0.1843</td>\n",
       "      <td>1</td>\n",
       "      <td>0.1335</td>\n",
       "      <td>82.9377</td>\n",
       "      <td>16.6490</td>\n",
       "      <td>0.3508</td>\n",
       "      <td>0.2713</td>\n",
       "      <td>-1</td>\n",
       "      <td>0.2175</td>\n",
       "      <td>0.2090</td>\n",
       "      <td>1</td>\n",
       "      <td>0.0667</td>\n",
       "      <td>4971</td>\n",
       "      <td>\"</td>\n",
       "    </tr>\n",
       "    <tr>\n",
       "      <th>4972</th>\n",
       "      <td>82.9562</td>\n",
       "      <td>16.6795</td>\n",
       "      <td>0.2779</td>\n",
       "      <td>0.2641</td>\n",
       "      <td>-1</td>\n",
       "      <td>0.2247</td>\n",
       "      <td>0.1855</td>\n",
       "      <td>1</td>\n",
       "      <td>0.1501</td>\n",
       "      <td>82.9544</td>\n",
       "      <td>16.7521</td>\n",
       "      <td>0.3352</td>\n",
       "      <td>0.2531</td>\n",
       "      <td>-1</td>\n",
       "      <td>0.2236</td>\n",
       "      <td>0.2010</td>\n",
       "      <td>1</td>\n",
       "      <td>0.0835</td>\n",
       "      <td>4972</td>\n",
       "      <td>\"</td>\n",
       "    </tr>\n",
       "    <tr>\n",
       "      <th>4973</th>\n",
       "      <td>82.9729</td>\n",
       "      <td>16.7183</td>\n",
       "      <td>0.2809</td>\n",
       "      <td>0.2683</td>\n",
       "      <td>-1</td>\n",
       "      <td>0.2232</td>\n",
       "      <td>0.1827</td>\n",
       "      <td>1</td>\n",
       "      <td>0.1669</td>\n",
       "      <td>82.9710</td>\n",
       "      <td>16.6116</td>\n",
       "      <td>0.3341</td>\n",
       "      <td>0.2794</td>\n",
       "      <td>-1</td>\n",
       "      <td>0.2191</td>\n",
       "      <td>0.2005</td>\n",
       "      <td>1</td>\n",
       "      <td>0.1001</td>\n",
       "      <td>4973</td>\n",
       "      <td>\"</td>\n",
       "    </tr>\n",
       "  </tbody>\n",
       "</table>\n",
       "</div>"
      ],
      "text/plain": [
       "          ATT      ADT     ALX     ALY  ARI     APW     APH  AQU     AFX  \\\n",
       "4969  82.9061  16.7239  0.2669  0.2755   -1  0.2202  0.1689    1  0.1001   \n",
       "4970  82.9228  16.6524  0.2756  0.2830   -1  0.2207  0.1826    1  0.1167   \n",
       "4971  82.9395  16.7147  0.2735  0.2783   -1  0.2269  0.1843    1  0.1335   \n",
       "4972  82.9562  16.6795  0.2779  0.2641   -1  0.2247  0.1855    1  0.1501   \n",
       "4973  82.9729  16.7183  0.2809  0.2683   -1  0.2232  0.1827    1  0.1669   \n",
       "\n",
       "          BTT      BDT     BLX     BLY  BRI     BPW     BPH  BQU     BFX  \\\n",
       "4969  82.9043  16.6485  0.3415  0.2627   -1  0.2293  0.2101    1  0.0334   \n",
       "4970  82.9210  16.7125  0.3428  0.2519   -1  0.2316  0.2070    1  0.0501   \n",
       "4971  82.9377  16.6490  0.3508  0.2713   -1  0.2175  0.2090    1  0.0667   \n",
       "4972  82.9544  16.7521  0.3352  0.2531   -1  0.2236  0.2010    1  0.0835   \n",
       "4973  82.9710  16.6116  0.3341  0.2794   -1  0.2191  0.2005    1  0.1001   \n",
       "\n",
       "       CNT MRK  \n",
       "4969  4969   \"  \n",
       "4970  4970   \"  \n",
       "4971  4971   \"  \n",
       "4972  4972   \"  \n",
       "4973  4973   \"  "
      ]
     },
     "execution_count": 4,
     "metadata": {},
     "output_type": "execute_result"
    }
   ],
   "source": [
    "data.tail()"
   ]
  },
  {
   "cell_type": "code",
   "execution_count": 5,
   "metadata": {},
   "outputs": [
    {
     "data": {
      "text/html": [
       "<div>\n",
       "<style scoped>\n",
       "    .dataframe tbody tr th:only-of-type {\n",
       "        vertical-align: middle;\n",
       "    }\n",
       "\n",
       "    .dataframe tbody tr th {\n",
       "        vertical-align: top;\n",
       "    }\n",
       "\n",
       "    .dataframe thead th {\n",
       "        text-align: right;\n",
       "    }\n",
       "</style>\n",
       "<table border=\"1\" class=\"dataframe\">\n",
       "  <thead>\n",
       "    <tr style=\"text-align: right;\">\n",
       "      <th></th>\n",
       "      <th>Unnamed: 0</th>\n",
       "      <th>0</th>\n",
       "      <th>1</th>\n",
       "    </tr>\n",
       "  </thead>\n",
       "  <tbody>\n",
       "    <tr>\n",
       "      <th>4969</th>\n",
       "      <td>4969</td>\n",
       "      <td>0.383304</td>\n",
       "      <td>0.433910</td>\n",
       "    </tr>\n",
       "    <tr>\n",
       "      <th>4970</th>\n",
       "      <td>4970</td>\n",
       "      <td>0.390448</td>\n",
       "      <td>0.441924</td>\n",
       "    </tr>\n",
       "    <tr>\n",
       "      <th>4971</th>\n",
       "      <td>4971</td>\n",
       "      <td>0.389277</td>\n",
       "      <td>0.437536</td>\n",
       "    </tr>\n",
       "    <tr>\n",
       "      <th>4972</th>\n",
       "      <td>4972</td>\n",
       "      <td>0.396332</td>\n",
       "      <td>0.426310</td>\n",
       "    </tr>\n",
       "    <tr>\n",
       "      <th>4973</th>\n",
       "      <td>4973</td>\n",
       "      <td>0.398487</td>\n",
       "      <td>0.430444</td>\n",
       "    </tr>\n",
       "  </tbody>\n",
       "</table>\n",
       "</div>"
      ],
      "text/plain": [
       "      Unnamed: 0         0         1\n",
       "4969        4969  0.383304  0.433910\n",
       "4970        4970  0.390448  0.441924\n",
       "4971        4971  0.389277  0.437536\n",
       "4972        4972  0.396332  0.426310\n",
       "4973        4973  0.398487  0.430444"
      ]
     },
     "execution_count": 5,
     "metadata": {},
     "output_type": "execute_result"
    }
   ],
   "source": [
    "corrected.tail()"
   ]
  },
  {
   "cell_type": "code",
   "execution_count": 6,
   "metadata": {},
   "outputs": [],
   "source": [
    "cap = cv2.VideoCapture('nw_version1.mov')"
   ]
  },
  {
   "cell_type": "code",
   "execution_count": 7,
   "metadata": {},
   "outputs": [],
   "source": [
    "frames = int(cap.get(cv2.CAP_PROP_FRAME_COUNT))\n",
    "width = int(cap.get(cv2.CAP_PROP_FRAME_WIDTH))\n",
    "height = int(cap.get(cv2.CAP_PROP_FRAME_HEIGHT))"
   ]
  },
  {
   "cell_type": "code",
   "execution_count": 8,
   "metadata": {},
   "outputs": [
    {
     "data": {
      "text/plain": [
       "5045"
      ]
     },
     "execution_count": 8,
     "metadata": {},
     "output_type": "execute_result"
    }
   ],
   "source": [
    "frames"
   ]
  },
  {
   "cell_type": "code",
   "execution_count": 18,
   "metadata": {},
   "outputs": [],
   "source": [
    "x = data.ALX * 800\n",
    "y = data.ALY * 600"
   ]
  },
  {
   "cell_type": "code",
   "execution_count": 19,
   "metadata": {},
   "outputs": [],
   "source": [
    "%matplotlib widget"
   ]
  },
  {
   "cell_type": "code",
   "execution_count": 21,
   "metadata": {},
   "outputs": [
    {
     "data": {
      "application/vnd.jupyter.widget-view+json": {
       "model_id": "",
       "version_major": 2,
       "version_minor": 0
      },
      "text/plain": [
       "FigureCanvasNbAgg()"
      ]
     },
     "metadata": {},
     "output_type": "display_data"
    }
   ],
   "source": [
    "fig, ax = plt.subplots(1,1)\n",
    "plt.ion()\n",
    "plt.show()\n",
    "for i in range(data.shape[0]):\n",
    "    fig.clf()\n",
    "    try:\n",
    "        flag, frame = cap.read()\n",
    "        plt.imshow(frame)\n",
    "        plt.plot(x[i], y[i], 'or')\n",
    "        fig.canvas.draw()\n",
    "    except:\n",
    "        break\n",
    "    "
   ]
  },
  {
   "cell_type": "code",
   "execution_count": 22,
   "metadata": {},
   "outputs": [],
   "source": [
    "cap.release()"
   ]
  },
  {
   "cell_type": "code",
   "execution_count": 9,
   "metadata": {},
   "outputs": [],
   "source": [
    "x = corrected.iloc[:, 1] * 800\n",
    "y = corrected.iloc[:, 2] * 600"
   ]
  },
  {
   "cell_type": "code",
   "execution_count": 10,
   "metadata": {},
   "outputs": [],
   "source": [
    "%matplotlib widget"
   ]
  },
  {
   "cell_type": "code",
   "execution_count": 11,
   "metadata": {},
   "outputs": [
    {
     "data": {
      "application/vnd.jupyter.widget-view+json": {
       "model_id": "292fc446f1b24d90a31bf92ec7f1d487",
       "version_major": 2,
       "version_minor": 0
      },
      "text/plain": [
       "FigureCanvasNbAgg()"
      ]
     },
     "metadata": {},
     "output_type": "display_data"
    }
   ],
   "source": [
    "fig, ax = plt.subplots(1,1)\n",
    "plt.ion()\n",
    "plt.show()\n",
    "for i in range(data.shape[0]):\n",
    "    fig.clf()\n",
    "    try:\n",
    "        flag, frame = cap.read()\n",
    "        plt.imshow(frame)\n",
    "        plt.plot(x[i], y[i], 'or')\n",
    "        fig.canvas.draw()\n",
    "    except:\n",
    "        break\n",
    "    "
   ]
  },
  {
   "cell_type": "code",
   "execution_count": 12,
   "metadata": {},
   "outputs": [],
   "source": [
    "cap.release()"
   ]
  },
  {
   "cell_type": "code",
   "execution_count": null,
   "metadata": {},
   "outputs": [],
   "source": []
  }
 ],
 "metadata": {
  "kernelspec": {
   "display_name": "Python 3",
   "language": "python",
   "name": "python3"
  },
  "language_info": {
   "codemirror_mode": {
    "name": "ipython",
    "version": 3
   },
   "file_extension": ".py",
   "mimetype": "text/x-python",
   "name": "python",
   "nbconvert_exporter": "python",
   "pygments_lexer": "ipython3",
   "version": "3.7.1"
  }
 },
 "nbformat": 4,
 "nbformat_minor": 2
}

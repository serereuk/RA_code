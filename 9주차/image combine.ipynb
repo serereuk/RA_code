{
 "cells": [
  {
   "cell_type": "code",
   "execution_count": 1,
   "metadata": {},
   "outputs": [],
   "source": [
    "import os"
   ]
  },
  {
   "cell_type": "code",
   "execution_count": 2,
   "metadata": {},
   "outputs": [
    {
     "data": {
      "text/plain": [
       "'/Users/Wook-Young/Desktop/RA/code/RA_code/9주차'"
      ]
     },
     "execution_count": 2,
     "metadata": {},
     "output_type": "execute_result"
    }
   ],
   "source": [
    "os.getcwd()"
   ]
  },
  {
   "cell_type": "code",
   "execution_count": 3,
   "metadata": {},
   "outputs": [],
   "source": [
    "os.chdir('/Users/Wook-Young/Desktop/RA/code/result')"
   ]
  },
  {
   "cell_type": "code",
   "execution_count": 4,
   "metadata": {},
   "outputs": [
    {
     "data": {
      "text/plain": [
       "'/Users/Wook-Young/Desktop/RA/code/result'"
      ]
     },
     "execution_count": 4,
     "metadata": {},
     "output_type": "execute_result"
    }
   ],
   "source": [
    "os.getcwd()"
   ]
  },
  {
   "cell_type": "code",
   "execution_count": 5,
   "metadata": {},
   "outputs": [],
   "source": [
    "fold = os.listdir(os.getcwd())"
   ]
  },
  {
   "cell_type": "code",
   "execution_count": 6,
   "metadata": {},
   "outputs": [],
   "source": [
    "fold.sort()"
   ]
  },
  {
   "cell_type": "code",
   "execution_count": 7,
   "metadata": {},
   "outputs": [],
   "source": [
    "fold = fold[1:]"
   ]
  },
  {
   "cell_type": "code",
   "execution_count": 8,
   "metadata": {},
   "outputs": [
    {
     "data": {
      "text/plain": [
       "['node100size3000epoch4000model1',\n",
       " 'node10size1024epoch1000model1',\n",
       " 'node10size128epoch1000model1',\n",
       " 'node10size256epoch1000model1',\n",
       " 'node10size32epoch1000model1',\n",
       " 'node10size32epoch2000model1',\n",
       " 'node10size32epoch3000model1',\n",
       " 'node10size512epoch1000model1',\n",
       " 'node10size64epoch1000model1',\n",
       " 'node1100size3000epoch4000model1',\n",
       " 'node1300size3000epoch4000model1',\n",
       " 'node1500size3000epoch4000model1',\n",
       " 'node1700size3000epoch4000model1',\n",
       " 'node1800size3000epoch4000model1',\n",
       " 'node1800size3000epoch5000model1',\n",
       " 'node2000size3000epoch5000model1',\n",
       " 'node20size1024epoch1000model1',\n",
       " 'node20size128epoch1000model1',\n",
       " 'node20size256epoch1000model1',\n",
       " 'node20size32epoch1000model1',\n",
       " 'node20size32epoch2000model1',\n",
       " 'node20size32epoch3000model1',\n",
       " 'node20size512epoch1000model1',\n",
       " 'node20size64epoch1000model1',\n",
       " 'node2200size3000epoch5000model1',\n",
       " 'node2400size3000epoch5000model1',\n",
       " 'node3000size3000epoch8000model1',\n",
       " 'node300size3000epoch4000model1',\n",
       " 'node30size1024epoch1000model1',\n",
       " 'node30size128epoch1000model1',\n",
       " 'node30size256epoch1000model1',\n",
       " 'node30size32epoch1000model1',\n",
       " 'node30size512epoch1000model1',\n",
       " 'node30size64epoch1000model1',\n",
       " 'node40size1024epoch1000model1',\n",
       " 'node40size128epoch1000model1',\n",
       " 'node40size256epoch1000model1',\n",
       " 'node40size32epoch1000model1',\n",
       " 'node40size512epoch1000model1',\n",
       " 'node40size64epoch1000model1',\n",
       " 'node500size3000epoch4000model1',\n",
       " 'node700size3000epoch4000model1',\n",
       " 'node900size3000epoch4000model1']"
      ]
     },
     "execution_count": 8,
     "metadata": {},
     "output_type": "execute_result"
    }
   ],
   "source": [
    "fold"
   ]
  },
  {
   "cell_type": "code",
   "execution_count": 9,
   "metadata": {},
   "outputs": [
    {
     "name": "stderr",
     "output_type": "stream",
     "text": [
      "/anaconda3/lib/python3.7/site-packages/matplotlib/pyplot.py:514: RuntimeWarning: More than 20 figures have been opened. Figures created through the pyplot interface (`matplotlib.pyplot.figure`) are retained until explicitly closed and may consume too much memory. (To control this warning, see the rcParam `figure.max_open_warning`).\n",
      "  max_open_warning, RuntimeWarning)\n"
     ]
    }
   ],
   "source": [
    "import numpy as np\n",
    "import matplotlib.pyplot as plt\n",
    "for i in fold:\n",
    "    path = '/Users/Wook-Young/Desktop/RA/code/result' + '/' + i\n",
    "    os.chdir(path)\n",
    "    file = os.listdir(path)\n",
    "    try:\n",
    "        file.remove('.DS_Store')\n",
    "    except:\n",
    "        file.sort()\n",
    "    try:\n",
    "        file.remove('total.jpg')\n",
    "    except:\n",
    "        file.sort()\n",
    "    file.sort()\n",
    "    fig = plt.figure(figsize=(20,20))\n",
    "    plt.tight_layout()\n",
    "    plt.suptitle(i)\n",
    "    for its, it in enumerate(file):\n",
    "        temp = plt.imread(it)\n",
    "        subplot = fig.add_subplot(3, 2, its+1)\n",
    "        subplot.set_xticks([])\n",
    "        subplot.set_yticks([])\n",
    "        subplot.imshow(temp, aspect = 'auto', interpolation = 'nearest')\n",
    "    plt.subplots_adjust(hspace=0, wspace=0)\n",
    "    os.chdir('/Users/Wook-Young/Desktop/RA/code/result2')\n",
    "    plt.savefig(i + \".jpg\")\n",
    "    "
   ]
  },
  {
   "cell_type": "code",
   "execution_count": null,
   "metadata": {},
   "outputs": [],
   "source": []
  },
  {
   "cell_type": "code",
   "execution_count": null,
   "metadata": {},
   "outputs": [],
   "source": []
  }
 ],
 "metadata": {
  "kernelspec": {
   "display_name": "Python 3",
   "language": "python",
   "name": "python3"
  },
  "language_info": {
   "codemirror_mode": {
    "name": "ipython",
    "version": 3
   },
   "file_extension": ".py",
   "mimetype": "text/x-python",
   "name": "python",
   "nbconvert_exporter": "python",
   "pygments_lexer": "ipython3",
   "version": "3.7.1"
  }
 },
 "nbformat": 4,
 "nbformat_minor": 2
}

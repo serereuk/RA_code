{
 "cells": [
  {
   "cell_type": "code",
   "execution_count": 1,
   "metadata": {},
   "outputs": [],
   "source": [
    "import os\n",
    "import pandas as pd\n",
    "os.chdir('/Users/Wook-Young/Desktop/RA/code/RA_code')\n",
    "data = pd.read_csv(\"khc1.txt\")"
   ]
  },
  {
   "cell_type": "code",
   "execution_count": 2,
   "metadata": {},
   "outputs": [],
   "source": [
    "from IPython.display import display"
   ]
  },
  {
   "cell_type": "code",
   "execution_count": 7,
   "metadata": {},
   "outputs": [
    {
     "data": {
      "text/html": [
       "<div>\n",
       "<style scoped>\n",
       "    .dataframe tbody tr th:only-of-type {\n",
       "        vertical-align: middle;\n",
       "    }\n",
       "\n",
       "    .dataframe tbody tr th {\n",
       "        vertical-align: top;\n",
       "    }\n",
       "\n",
       "    .dataframe thead th {\n",
       "        text-align: right;\n",
       "    }\n",
       "</style>\n",
       "<table border=\"1\" class=\"dataframe\">\n",
       "  <thead>\n",
       "    <tr style=\"text-align: right;\">\n",
       "      <th></th>\n",
       "      <th>ATT</th>\n",
       "      <th>ADT</th>\n",
       "      <th>ALX</th>\n",
       "      <th>ALY</th>\n",
       "      <th>ARI</th>\n",
       "      <th>APW</th>\n",
       "      <th>APH</th>\n",
       "      <th>AQU</th>\n",
       "      <th>AFX</th>\n",
       "      <th>BTT</th>\n",
       "      <th>BDT</th>\n",
       "      <th>BLX</th>\n",
       "      <th>BLY</th>\n",
       "      <th>BRI</th>\n",
       "      <th>BPW</th>\n",
       "      <th>BPH</th>\n",
       "      <th>BQU</th>\n",
       "      <th>BFX</th>\n",
       "      <th>CNT</th>\n",
       "      <th>MRK</th>\n",
       "    </tr>\n",
       "  </thead>\n",
       "  <tbody>\n",
       "    <tr>\n",
       "      <th>0</th>\n",
       "      <td>0.0000</td>\n",
       "      <td>0.0000</td>\n",
       "      <td>0.4583</td>\n",
       "      <td>0.2623</td>\n",
       "      <td>-1</td>\n",
       "      <td>0.2357</td>\n",
       "      <td>0.1983</td>\n",
       "      <td>1</td>\n",
       "      <td>0.0166</td>\n",
       "      <td>-0.0031</td>\n",
       "      <td>-3.0842</td>\n",
       "      <td>0.4520</td>\n",
       "      <td>0.2207</td>\n",
       "      <td>-1</td>\n",
       "      <td>0.2505</td>\n",
       "      <td>0.2030</td>\n",
       "      <td>1</td>\n",
       "      <td>0.0167</td>\n",
       "      <td>0</td>\n",
       "      <td>=,+\"</td>\n",
       "    </tr>\n",
       "    <tr>\n",
       "      <th>1</th>\n",
       "      <td>0.0168</td>\n",
       "      <td>16.7734</td>\n",
       "      <td>0.4417</td>\n",
       "      <td>0.2593</td>\n",
       "      <td>-1</td>\n",
       "      <td>0.2415</td>\n",
       "      <td>0.1911</td>\n",
       "      <td>1</td>\n",
       "      <td>0.0168</td>\n",
       "      <td>0.0136</td>\n",
       "      <td>16.6993</td>\n",
       "      <td>0.4378</td>\n",
       "      <td>0.2330</td>\n",
       "      <td>-1</td>\n",
       "      <td>0.2500</td>\n",
       "      <td>0.2144</td>\n",
       "      <td>1</td>\n",
       "      <td>0.0167</td>\n",
       "      <td>1</td>\n",
       "      <td>\"</td>\n",
       "    </tr>\n",
       "    <tr>\n",
       "      <th>2</th>\n",
       "      <td>0.0333</td>\n",
       "      <td>16.5722</td>\n",
       "      <td>0.4321</td>\n",
       "      <td>0.2631</td>\n",
       "      <td>-1</td>\n",
       "      <td>0.2492</td>\n",
       "      <td>0.1963</td>\n",
       "      <td>1</td>\n",
       "      <td>0.0166</td>\n",
       "      <td>0.0303</td>\n",
       "      <td>16.7111</td>\n",
       "      <td>0.4520</td>\n",
       "      <td>0.2207</td>\n",
       "      <td>-1</td>\n",
       "      <td>0.2505</td>\n",
       "      <td>0.2030</td>\n",
       "      <td>1</td>\n",
       "      <td>0.0167</td>\n",
       "      <td>2</td>\n",
       "      <td>\"</td>\n",
       "    </tr>\n",
       "    <tr>\n",
       "      <th>3</th>\n",
       "      <td>0.0502</td>\n",
       "      <td>16.8357</td>\n",
       "      <td>0.4174</td>\n",
       "      <td>0.2383</td>\n",
       "      <td>-1</td>\n",
       "      <td>0.2420</td>\n",
       "      <td>0.1882</td>\n",
       "      <td>1</td>\n",
       "      <td>0.0168</td>\n",
       "      <td>0.0470</td>\n",
       "      <td>16.6493</td>\n",
       "      <td>0.3234</td>\n",
       "      <td>0.2790</td>\n",
       "      <td>-1</td>\n",
       "      <td>0.2515</td>\n",
       "      <td>0.2184</td>\n",
       "      <td>1</td>\n",
       "      <td>0.0166</td>\n",
       "      <td>3</td>\n",
       "      <td>\"</td>\n",
       "    </tr>\n",
       "    <tr>\n",
       "      <th>4</th>\n",
       "      <td>0.0668</td>\n",
       "      <td>16.5800</td>\n",
       "      <td>0.4378</td>\n",
       "      <td>0.2569</td>\n",
       "      <td>-1</td>\n",
       "      <td>0.2495</td>\n",
       "      <td>0.1971</td>\n",
       "      <td>1</td>\n",
       "      <td>0.0166</td>\n",
       "      <td>0.0637</td>\n",
       "      <td>16.6977</td>\n",
       "      <td>0.4535</td>\n",
       "      <td>0.2500</td>\n",
       "      <td>-1</td>\n",
       "      <td>0.2542</td>\n",
       "      <td>0.2218</td>\n",
       "      <td>1</td>\n",
       "      <td>0.0167</td>\n",
       "      <td>4</td>\n",
       "      <td>\"</td>\n",
       "    </tr>\n",
       "    <tr>\n",
       "      <th>5</th>\n",
       "      <td>0.0834</td>\n",
       "      <td>16.6714</td>\n",
       "      <td>0.4186</td>\n",
       "      <td>0.2327</td>\n",
       "      <td>-1</td>\n",
       "      <td>0.2399</td>\n",
       "      <td>0.1835</td>\n",
       "      <td>1</td>\n",
       "      <td>0.0167</td>\n",
       "      <td>0.0803</td>\n",
       "      <td>16.6661</td>\n",
       "      <td>0.4497</td>\n",
       "      <td>0.0336</td>\n",
       "      <td>-1</td>\n",
       "      <td>0.3270</td>\n",
       "      <td>0.2292</td>\n",
       "      <td>1</td>\n",
       "      <td>0.0167</td>\n",
       "      <td>5</td>\n",
       "      <td>\"</td>\n",
       "    </tr>\n",
       "    <tr>\n",
       "      <th>6</th>\n",
       "      <td>0.1001</td>\n",
       "      <td>16.6890</td>\n",
       "      <td>0.4226</td>\n",
       "      <td>0.2451</td>\n",
       "      <td>-1</td>\n",
       "      <td>0.2363</td>\n",
       "      <td>0.1902</td>\n",
       "      <td>1</td>\n",
       "      <td>0.0167</td>\n",
       "      <td>0.0971</td>\n",
       "      <td>16.7164</td>\n",
       "      <td>0.4461</td>\n",
       "      <td>0.2483</td>\n",
       "      <td>-1</td>\n",
       "      <td>0.2543</td>\n",
       "      <td>0.2238</td>\n",
       "      <td>1</td>\n",
       "      <td>0.0167</td>\n",
       "      <td>6</td>\n",
       "      <td>\"</td>\n",
       "    </tr>\n",
       "    <tr>\n",
       "      <th>7</th>\n",
       "      <td>0.1168</td>\n",
       "      <td>16.6826</td>\n",
       "      <td>0.4298</td>\n",
       "      <td>0.2343</td>\n",
       "      <td>-1</td>\n",
       "      <td>0.2376</td>\n",
       "      <td>0.1933</td>\n",
       "      <td>1</td>\n",
       "      <td>0.0167</td>\n",
       "      <td>0.1137</td>\n",
       "      <td>16.6644</td>\n",
       "      <td>0.4515</td>\n",
       "      <td>0.2683</td>\n",
       "      <td>-1</td>\n",
       "      <td>0.2571</td>\n",
       "      <td>0.2257</td>\n",
       "      <td>1</td>\n",
       "      <td>0.0167</td>\n",
       "      <td>7</td>\n",
       "      <td>\"</td>\n",
       "    </tr>\n",
       "    <tr>\n",
       "      <th>8</th>\n",
       "      <td>0.1334</td>\n",
       "      <td>16.6340</td>\n",
       "      <td>0.4214</td>\n",
       "      <td>0.2471</td>\n",
       "      <td>-1</td>\n",
       "      <td>0.2421</td>\n",
       "      <td>0.1934</td>\n",
       "      <td>1</td>\n",
       "      <td>0.0166</td>\n",
       "      <td>0.1304</td>\n",
       "      <td>16.6870</td>\n",
       "      <td>0.4349</td>\n",
       "      <td>0.2410</td>\n",
       "      <td>-1</td>\n",
       "      <td>0.2515</td>\n",
       "      <td>0.2194</td>\n",
       "      <td>1</td>\n",
       "      <td>0.0167</td>\n",
       "      <td>8</td>\n",
       "      <td>\"</td>\n",
       "    </tr>\n",
       "    <tr>\n",
       "      <th>9</th>\n",
       "      <td>0.1502</td>\n",
       "      <td>16.7616</td>\n",
       "      <td>0.4099</td>\n",
       "      <td>0.2258</td>\n",
       "      <td>-1</td>\n",
       "      <td>0.2390</td>\n",
       "      <td>0.1855</td>\n",
       "      <td>1</td>\n",
       "      <td>0.0168</td>\n",
       "      <td>0.1470</td>\n",
       "      <td>16.6368</td>\n",
       "      <td>0.4477</td>\n",
       "      <td>0.2474</td>\n",
       "      <td>-1</td>\n",
       "      <td>0.2522</td>\n",
       "      <td>0.2197</td>\n",
       "      <td>1</td>\n",
       "      <td>0.0166</td>\n",
       "      <td>9</td>\n",
       "      <td>\"</td>\n",
       "    </tr>\n",
       "  </tbody>\n",
       "</table>\n",
       "</div>"
      ],
      "text/plain": [
       "      ATT      ADT     ALX     ALY  ARI     APW     APH  AQU     AFX     BTT  \\\n",
       "0  0.0000   0.0000  0.4583  0.2623   -1  0.2357  0.1983    1  0.0166 -0.0031   \n",
       "1  0.0168  16.7734  0.4417  0.2593   -1  0.2415  0.1911    1  0.0168  0.0136   \n",
       "2  0.0333  16.5722  0.4321  0.2631   -1  0.2492  0.1963    1  0.0166  0.0303   \n",
       "3  0.0502  16.8357  0.4174  0.2383   -1  0.2420  0.1882    1  0.0168  0.0470   \n",
       "4  0.0668  16.5800  0.4378  0.2569   -1  0.2495  0.1971    1  0.0166  0.0637   \n",
       "5  0.0834  16.6714  0.4186  0.2327   -1  0.2399  0.1835    1  0.0167  0.0803   \n",
       "6  0.1001  16.6890  0.4226  0.2451   -1  0.2363  0.1902    1  0.0167  0.0971   \n",
       "7  0.1168  16.6826  0.4298  0.2343   -1  0.2376  0.1933    1  0.0167  0.1137   \n",
       "8  0.1334  16.6340  0.4214  0.2471   -1  0.2421  0.1934    1  0.0166  0.1304   \n",
       "9  0.1502  16.7616  0.4099  0.2258   -1  0.2390  0.1855    1  0.0168  0.1470   \n",
       "\n",
       "       BDT     BLX     BLY  BRI     BPW     BPH  BQU     BFX  CNT   MRK  \n",
       "0  -3.0842  0.4520  0.2207   -1  0.2505  0.2030    1  0.0167    0  =,+\"  \n",
       "1  16.6993  0.4378  0.2330   -1  0.2500  0.2144    1  0.0167    1     \"  \n",
       "2  16.7111  0.4520  0.2207   -1  0.2505  0.2030    1  0.0167    2     \"  \n",
       "3  16.6493  0.3234  0.2790   -1  0.2515  0.2184    1  0.0166    3     \"  \n",
       "4  16.6977  0.4535  0.2500   -1  0.2542  0.2218    1  0.0167    4     \"  \n",
       "5  16.6661  0.4497  0.0336   -1  0.3270  0.2292    1  0.0167    5     \"  \n",
       "6  16.7164  0.4461  0.2483   -1  0.2543  0.2238    1  0.0167    6     \"  \n",
       "7  16.6644  0.4515  0.2683   -1  0.2571  0.2257    1  0.0167    7     \"  \n",
       "8  16.6870  0.4349  0.2410   -1  0.2515  0.2194    1  0.0167    8     \"  \n",
       "9  16.6368  0.4477  0.2474   -1  0.2522  0.2197    1  0.0166    9     \"  "
      ]
     },
     "metadata": {},
     "output_type": "display_data"
    }
   ],
   "source": [
    "display(data.head(10))"
   ]
  },
  {
   "cell_type": "code",
   "execution_count": 4,
   "metadata": {},
   "outputs": [],
   "source": [
    "import matplotlib.pyplot as plt"
   ]
  },
  {
   "cell_type": "markdown",
   "metadata": {},
   "source": [
    "* 동공 Width"
   ]
  },
  {
   "cell_type": "code",
   "execution_count": 5,
   "metadata": {},
   "outputs": [
    {
     "data": {
      "text/plain": [
       "(array([1.1020e+03, 5.0100e+02, 9.4840e+03, 1.2152e+04, 3.9500e+03,\n",
       "        1.2400e+02, 2.8000e+01, 9.0000e+00, 2.0000e+00, 3.0000e+00]),\n",
       " array([0.0196, 0.0633, 0.107 , 0.1507, 0.1944, 0.2381, 0.2818, 0.3255,\n",
       "        0.3692, 0.4129, 0.4566]),\n",
       " <a list of 10 Patch objects>)"
      ]
     },
     "execution_count": 5,
     "metadata": {},
     "output_type": "execute_result"
    },
    {
     "data": {
      "image/png": "[encoded data removed]",
      "text/plain": [
       "<Figure size 432x288 with 1 Axes>"
      ]
     },
     "metadata": {
      "needs_background": "light"
     },
     "output_type": "display_data"
    }
   ],
   "source": [
    "plt.hist(data.APW)"
   ]
  },
  {
   "cell_type": "markdown",
   "metadata": {},
   "source": [
    "* 동공 Height"
   ]
  },
  {
   "cell_type": "code",
   "execution_count": 6,
   "metadata": {},
   "outputs": [
    {
     "data": {
      "text/plain": [
       "(array([1.3580e+03, 4.0000e+02, 9.4230e+03, 1.3082e+04, 3.0480e+03,\n",
       "        4.3000e+01, 0.0000e+00, 0.0000e+00, 0.0000e+00, 1.0000e+00]),\n",
       " array([0.011  , 0.04772, 0.08444, 0.12116, 0.15788, 0.1946 , 0.23132,\n",
       "        0.26804, 0.30476, 0.34148, 0.3782 ]),\n",
       " <a list of 10 Patch objects>)"
      ]
     },
     "execution_count": 6,
     "metadata": {},
     "output_type": "execute_result"
    },
    {
     "data": {
      "image/png": "[encoded data removed]",
      "text/plain": [
       "<Figure size 432x288 with 1 Axes>"
      ]
     },
     "metadata": {
      "needs_background": "light"
     },
     "output_type": "display_data"
    }
   ],
   "source": [
    "plt.hist(data.APH)"
   ]
  },
  {
   "cell_type": "code",
   "execution_count": 8,
   "metadata": {},
   "outputs": [],
   "source": [
    "wts = data.loc[data.ATT < 85]"
   ]
  },
  {
   "cell_type": "markdown",
   "metadata": {},
   "source": [
    "## 1st 패러다임 동공 크기 분포\n",
    "* Width"
   ]
  },
  {
   "cell_type": "code",
   "execution_count": 9,
   "metadata": {},
   "outputs": [
    {
     "data": {
      "text/plain": [
       "(array([ 118.,   76.,   40.,   40.,  132.,  907., 2111., 1334.,  280.,\n",
       "          58.]),\n",
       " array([0.0208 , 0.04464, 0.06848, 0.09232, 0.11616, 0.14   , 0.16384,\n",
       "        0.18768, 0.21152, 0.23536, 0.2592 ]),\n",
       " <a list of 10 Patch objects>)"
      ]
     },
     "execution_count": 9,
     "metadata": {},
     "output_type": "execute_result"
    },
    {
     "data": {
      "image/png": "[encoded data removed]",
      "text/plain": [
       "<Figure size 432x288 with 1 Axes>"
      ]
     },
     "metadata": {
      "needs_background": "light"
     },
     "output_type": "display_data"
    }
   ],
   "source": [
    "plt.hist(wts.APW)"
   ]
  },
  {
   "cell_type": "markdown",
   "metadata": {},
   "source": [
    "* Height"
   ]
  },
  {
   "cell_type": "code",
   "execution_count": 11,
   "metadata": {},
   "outputs": [
    {
     "data": {
      "text/plain": [
       "(array([ 185.,   44.,   31.,   53.,  231., 1187., 2316.,  821.,  214.,\n",
       "          14.]),\n",
       " array([0.0119 , 0.03236, 0.05282, 0.07328, 0.09374, 0.1142 , 0.13466,\n",
       "        0.15512, 0.17558, 0.19604, 0.2165 ]),\n",
       " <a list of 10 Patch objects>)"
      ]
     },
     "execution_count": 11,
     "metadata": {},
     "output_type": "execute_result"
    },
    {
     "data": {
      "image/png": "[encoded data removed]",
      "text/plain": [
       "<Figure size 432x288 with 1 Axes>"
      ]
     },
     "metadata": {
      "needs_background": "light"
     },
     "output_type": "display_data"
    }
   ],
   "source": [
    "plt.hist(wts.APH)"
   ]
  },
  {
   "cell_type": "code",
   "execution_count": 14,
   "metadata": {},
   "outputs": [
    {
     "data": {
      "text/plain": [
       "(256, 20)"
      ]
     },
     "execution_count": 14,
     "metadata": {},
     "output_type": "execute_result"
    }
   ],
   "source": [
    "wts.loc[wts.APW < 0.10].shape"
   ]
  },
  {
   "cell_type": "code",
   "execution_count": 24,
   "metadata": {},
   "outputs": [
    {
     "data": {
      "text/html": [
       "<div>\n",
       "<style scoped>\n",
       "    .dataframe tbody tr th:only-of-type {\n",
       "        vertical-align: middle;\n",
       "    }\n",
       "\n",
       "    .dataframe tbody tr th {\n",
       "        vertical-align: top;\n",
       "    }\n",
       "\n",
       "    .dataframe thead th {\n",
       "        text-align: right;\n",
       "    }\n",
       "</style>\n",
       "<table border=\"1\" class=\"dataframe\">\n",
       "  <thead>\n",
       "    <tr style=\"text-align: right;\">\n",
       "      <th></th>\n",
       "      <th>ATT</th>\n",
       "      <th>ADT</th>\n",
       "      <th>ALX</th>\n",
       "      <th>ALY</th>\n",
       "      <th>ARI</th>\n",
       "      <th>APW</th>\n",
       "      <th>APH</th>\n",
       "      <th>AQU</th>\n",
       "      <th>AFX</th>\n",
       "      <th>BTT</th>\n",
       "      <th>BDT</th>\n",
       "      <th>BLX</th>\n",
       "      <th>BLY</th>\n",
       "      <th>BRI</th>\n",
       "      <th>BPW</th>\n",
       "      <th>BPH</th>\n",
       "      <th>BQU</th>\n",
       "      <th>BFX</th>\n",
       "      <th>CNT</th>\n",
       "      <th>MRK</th>\n",
       "    </tr>\n",
       "  </thead>\n",
       "  <tbody>\n",
       "    <tr>\n",
       "      <th>174</th>\n",
       "      <td>2.9026</td>\n",
       "      <td>16.6046</td>\n",
       "      <td>0.2481</td>\n",
       "      <td>2.2473</td>\n",
       "      <td>-1</td>\n",
       "      <td>0.0402</td>\n",
       "      <td>0.0208</td>\n",
       "      <td>1</td>\n",
       "      <td>0.0000</td>\n",
       "      <td>2.8995</td>\n",
       "      <td>16.7136</td>\n",
       "      <td>-0.0534</td>\n",
       "      <td>0.5333</td>\n",
       "      <td>-1</td>\n",
       "      <td>0.1633</td>\n",
       "      <td>0.0668</td>\n",
       "      <td>1</td>\n",
       "      <td>0.0000</td>\n",
       "      <td>174</td>\n",
       "      <td>\"</td>\n",
       "    </tr>\n",
       "    <tr>\n",
       "      <th>175</th>\n",
       "      <td>2.9193</td>\n",
       "      <td>16.7611</td>\n",
       "      <td>0.3174</td>\n",
       "      <td>2.1962</td>\n",
       "      <td>-1</td>\n",
       "      <td>0.0280</td>\n",
       "      <td>0.0164</td>\n",
       "      <td>1</td>\n",
       "      <td>0.0000</td>\n",
       "      <td>2.9161</td>\n",
       "      <td>16.6217</td>\n",
       "      <td>-0.0643</td>\n",
       "      <td>0.5376</td>\n",
       "      <td>-1</td>\n",
       "      <td>0.1854</td>\n",
       "      <td>0.0882</td>\n",
       "      <td>1</td>\n",
       "      <td>0.0166</td>\n",
       "      <td>175</td>\n",
       "      <td>\"</td>\n",
       "    </tr>\n",
       "    <tr>\n",
       "      <th>176</th>\n",
       "      <td>2.9359</td>\n",
       "      <td>16.5753</td>\n",
       "      <td>-0.0863</td>\n",
       "      <td>0.5350</td>\n",
       "      <td>-1</td>\n",
       "      <td>0.0502</td>\n",
       "      <td>0.0347</td>\n",
       "      <td>1</td>\n",
       "      <td>0.0000</td>\n",
       "      <td>2.9328</td>\n",
       "      <td>16.7139</td>\n",
       "      <td>-0.0770</td>\n",
       "      <td>0.4726</td>\n",
       "      <td>-1</td>\n",
       "      <td>0.1941</td>\n",
       "      <td>0.1014</td>\n",
       "      <td>1</td>\n",
       "      <td>0.0333</td>\n",
       "      <td>176</td>\n",
       "      <td>\"</td>\n",
       "    </tr>\n",
       "    <tr>\n",
       "      <th>177</th>\n",
       "      <td>2.9526</td>\n",
       "      <td>16.7485</td>\n",
       "      <td>-0.1627</td>\n",
       "      <td>0.4634</td>\n",
       "      <td>-1</td>\n",
       "      <td>0.0569</td>\n",
       "      <td>0.0504</td>\n",
       "      <td>1</td>\n",
       "      <td>0.0000</td>\n",
       "      <td>2.9495</td>\n",
       "      <td>16.6949</td>\n",
       "      <td>-0.0805</td>\n",
       "      <td>0.3770</td>\n",
       "      <td>-1</td>\n",
       "      <td>0.2316</td>\n",
       "      <td>0.1319</td>\n",
       "      <td>1</td>\n",
       "      <td>0.0500</td>\n",
       "      <td>177</td>\n",
       "      <td>\"</td>\n",
       "    </tr>\n",
       "    <tr>\n",
       "      <th>395</th>\n",
       "      <td>6.5892</td>\n",
       "      <td>16.7329</td>\n",
       "      <td>0.1626</td>\n",
       "      <td>0.3582</td>\n",
       "      <td>-1</td>\n",
       "      <td>0.0986</td>\n",
       "      <td>0.0779</td>\n",
       "      <td>1</td>\n",
       "      <td>0.0167</td>\n",
       "      <td>6.5860</td>\n",
       "      <td>16.6373</td>\n",
       "      <td>0.1694</td>\n",
       "      <td>0.6444</td>\n",
       "      <td>-1</td>\n",
       "      <td>0.2193</td>\n",
       "      <td>0.1926</td>\n",
       "      <td>1</td>\n",
       "      <td>0.0166</td>\n",
       "      <td>395</td>\n",
       "      <td>\"</td>\n",
       "    </tr>\n",
       "  </tbody>\n",
       "</table>\n",
       "</div>"
      ],
      "text/plain": [
       "        ATT      ADT     ALX     ALY  ARI     APW     APH  AQU     AFX  \\\n",
       "174  2.9026  16.6046  0.2481  2.2473   -1  0.0402  0.0208    1  0.0000   \n",
       "175  2.9193  16.7611  0.3174  2.1962   -1  0.0280  0.0164    1  0.0000   \n",
       "176  2.9359  16.5753 -0.0863  0.5350   -1  0.0502  0.0347    1  0.0000   \n",
       "177  2.9526  16.7485 -0.1627  0.4634   -1  0.0569  0.0504    1  0.0000   \n",
       "395  6.5892  16.7329  0.1626  0.3582   -1  0.0986  0.0779    1  0.0167   \n",
       "\n",
       "        BTT      BDT     BLX     BLY  BRI     BPW     BPH  BQU     BFX  CNT  \\\n",
       "174  2.8995  16.7136 -0.0534  0.5333   -1  0.1633  0.0668    1  0.0000  174   \n",
       "175  2.9161  16.6217 -0.0643  0.5376   -1  0.1854  0.0882    1  0.0166  175   \n",
       "176  2.9328  16.7139 -0.0770  0.4726   -1  0.1941  0.1014    1  0.0333  176   \n",
       "177  2.9495  16.6949 -0.0805  0.3770   -1  0.2316  0.1319    1  0.0500  177   \n",
       "395  6.5860  16.6373  0.1694  0.6444   -1  0.2193  0.1926    1  0.0166  395   \n",
       "\n",
       "    MRK  \n",
       "174   \"  \n",
       "175   \"  \n",
       "176   \"  \n",
       "177   \"  \n",
       "395   \"  "
      ]
     },
     "metadata": {},
     "output_type": "display_data"
    }
   ],
   "source": [
    "display(wts.loc[wts.APW < 0.10].head())"
   ]
  },
  {
   "cell_type": "code",
   "execution_count": 21,
   "metadata": {},
   "outputs": [
    {
     "data": {
      "text/html": [
       "<div>\n",
       "<style scoped>\n",
       "    .dataframe tbody tr th:only-of-type {\n",
       "        vertical-align: middle;\n",
       "    }\n",
       "\n",
       "    .dataframe tbody tr th {\n",
       "        vertical-align: top;\n",
       "    }\n",
       "\n",
       "    .dataframe thead th {\n",
       "        text-align: right;\n",
       "    }\n",
       "</style>\n",
       "<table border=\"1\" class=\"dataframe\">\n",
       "  <thead>\n",
       "    <tr style=\"text-align: right;\">\n",
       "      <th></th>\n",
       "      <th>ATT</th>\n",
       "      <th>ADT</th>\n",
       "      <th>ALX</th>\n",
       "      <th>ALY</th>\n",
       "      <th>ARI</th>\n",
       "      <th>APW</th>\n",
       "      <th>APH</th>\n",
       "      <th>AQU</th>\n",
       "      <th>AFX</th>\n",
       "      <th>BTT</th>\n",
       "      <th>BDT</th>\n",
       "      <th>BLX</th>\n",
       "      <th>BLY</th>\n",
       "      <th>BRI</th>\n",
       "      <th>BPW</th>\n",
       "      <th>BPH</th>\n",
       "      <th>BQU</th>\n",
       "      <th>BFX</th>\n",
       "      <th>CNT</th>\n",
       "      <th>MRK</th>\n",
       "    </tr>\n",
       "  </thead>\n",
       "  <tbody>\n",
       "    <tr>\n",
       "      <th>174</th>\n",
       "      <td>2.9026</td>\n",
       "      <td>16.6046</td>\n",
       "      <td>0.2481</td>\n",
       "      <td>2.2473</td>\n",
       "      <td>-1</td>\n",
       "      <td>0.0402</td>\n",
       "      <td>0.0208</td>\n",
       "      <td>1</td>\n",
       "      <td>0.0</td>\n",
       "      <td>2.8995</td>\n",
       "      <td>16.7136</td>\n",
       "      <td>-0.0534</td>\n",
       "      <td>0.5333</td>\n",
       "      <td>-1</td>\n",
       "      <td>0.1633</td>\n",
       "      <td>0.0668</td>\n",
       "      <td>1</td>\n",
       "      <td>0.0000</td>\n",
       "      <td>174</td>\n",
       "      <td>\"</td>\n",
       "    </tr>\n",
       "    <tr>\n",
       "      <th>175</th>\n",
       "      <td>2.9193</td>\n",
       "      <td>16.7611</td>\n",
       "      <td>0.3174</td>\n",
       "      <td>2.1962</td>\n",
       "      <td>-1</td>\n",
       "      <td>0.0280</td>\n",
       "      <td>0.0164</td>\n",
       "      <td>1</td>\n",
       "      <td>0.0</td>\n",
       "      <td>2.9161</td>\n",
       "      <td>16.6217</td>\n",
       "      <td>-0.0643</td>\n",
       "      <td>0.5376</td>\n",
       "      <td>-1</td>\n",
       "      <td>0.1854</td>\n",
       "      <td>0.0882</td>\n",
       "      <td>1</td>\n",
       "      <td>0.0166</td>\n",
       "      <td>175</td>\n",
       "      <td>\"</td>\n",
       "    </tr>\n",
       "    <tr>\n",
       "      <th>408</th>\n",
       "      <td>6.8060</td>\n",
       "      <td>16.5948</td>\n",
       "      <td>0.1924</td>\n",
       "      <td>2.3227</td>\n",
       "      <td>-1</td>\n",
       "      <td>0.0443</td>\n",
       "      <td>0.0203</td>\n",
       "      <td>1</td>\n",
       "      <td>0.0</td>\n",
       "      <td>6.8029</td>\n",
       "      <td>16.7072</td>\n",
       "      <td>0.1135</td>\n",
       "      <td>0.9295</td>\n",
       "      <td>-1</td>\n",
       "      <td>0.1692</td>\n",
       "      <td>0.1095</td>\n",
       "      <td>5</td>\n",
       "      <td>0.0167</td>\n",
       "      <td>408</td>\n",
       "      <td>\"</td>\n",
       "    </tr>\n",
       "    <tr>\n",
       "      <th>409</th>\n",
       "      <td>6.8228</td>\n",
       "      <td>16.7792</td>\n",
       "      <td>0.3242</td>\n",
       "      <td>2.1985</td>\n",
       "      <td>-1</td>\n",
       "      <td>0.0319</td>\n",
       "      <td>0.0164</td>\n",
       "      <td>1</td>\n",
       "      <td>0.0</td>\n",
       "      <td>6.8195</td>\n",
       "      <td>16.6270</td>\n",
       "      <td>-0.1059</td>\n",
       "      <td>1.8279</td>\n",
       "      <td>-1</td>\n",
       "      <td>0.0321</td>\n",
       "      <td>0.0278</td>\n",
       "      <td>1</td>\n",
       "      <td>0.0000</td>\n",
       "      <td>409</td>\n",
       "      <td>\"</td>\n",
       "    </tr>\n",
       "    <tr>\n",
       "      <th>410</th>\n",
       "      <td>6.8394</td>\n",
       "      <td>16.6946</td>\n",
       "      <td>0.2485</td>\n",
       "      <td>2.2863</td>\n",
       "      <td>-1</td>\n",
       "      <td>0.0243</td>\n",
       "      <td>0.0172</td>\n",
       "      <td>1</td>\n",
       "      <td>0.0</td>\n",
       "      <td>6.8362</td>\n",
       "      <td>16.7122</td>\n",
       "      <td>-0.1498</td>\n",
       "      <td>1.8423</td>\n",
       "      <td>-1</td>\n",
       "      <td>0.0295</td>\n",
       "      <td>0.0224</td>\n",
       "      <td>1</td>\n",
       "      <td>0.0000</td>\n",
       "      <td>410</td>\n",
       "      <td>\"</td>\n",
       "    </tr>\n",
       "  </tbody>\n",
       "</table>\n",
       "</div>"
      ],
      "text/plain": [
       "        ATT      ADT     ALX     ALY  ARI     APW     APH  AQU  AFX     BTT  \\\n",
       "174  2.9026  16.6046  0.2481  2.2473   -1  0.0402  0.0208    1  0.0  2.8995   \n",
       "175  2.9193  16.7611  0.3174  2.1962   -1  0.0280  0.0164    1  0.0  2.9161   \n",
       "408  6.8060  16.5948  0.1924  2.3227   -1  0.0443  0.0203    1  0.0  6.8029   \n",
       "409  6.8228  16.7792  0.3242  2.1985   -1  0.0319  0.0164    1  0.0  6.8195   \n",
       "410  6.8394  16.6946  0.2485  2.2863   -1  0.0243  0.0172    1  0.0  6.8362   \n",
       "\n",
       "         BDT     BLX     BLY  BRI     BPW     BPH  BQU     BFX  CNT MRK  \n",
       "174  16.7136 -0.0534  0.5333   -1  0.1633  0.0668    1  0.0000  174   \"  \n",
       "175  16.6217 -0.0643  0.5376   -1  0.1854  0.0882    1  0.0166  175   \"  \n",
       "408  16.7072  0.1135  0.9295   -1  0.1692  0.1095    5  0.0167  408   \"  \n",
       "409  16.6270 -0.1059  1.8279   -1  0.0321  0.0278    1  0.0000  409   \"  \n",
       "410  16.7122 -0.1498  1.8423   -1  0.0295  0.0224    1  0.0000  410   \"  "
      ]
     },
     "metadata": {},
     "output_type": "display_data"
    }
   ],
   "source": [
    "display(wts.loc[(wts.ALX > 1) | (wts.ALY > 1)].head())"
   ]
  },
  {
   "cell_type": "code",
   "execution_count": 22,
   "metadata": {},
   "outputs": [
    {
     "data": {
      "text/plain": [
       "(array([106.,  44.,  14.,   6.,  10.,   1.,   0.,   2.,   2.,   2.]),\n",
       " array([0.0208 , 0.04464, 0.06848, 0.09232, 0.11616, 0.14   , 0.16384,\n",
       "        0.18768, 0.21152, 0.23536, 0.2592 ]),\n",
       " <a list of 10 Patch objects>)"
      ]
     },
     "execution_count": 22,
     "metadata": {},
     "output_type": "execute_result"
    },
    {
     "data": {
      "image/png": "[encoded data removed]",
      "text/plain": [
       "<Figure size 432x288 with 1 Axes>"
      ]
     },
     "metadata": {
      "needs_background": "light"
     },
     "output_type": "display_data"
    }
   ],
   "source": [
    "plt.hist(wts.loc[(wts.ALX > 1) | (wts.ALY > 1)].APW)"
   ]
  },
  {
   "cell_type": "code",
   "execution_count": 23,
   "metadata": {},
   "outputs": [
    {
     "data": {
      "text/plain": [
       "(array([145.,  14.,   5.,  12.,   4.,   1.,   2.,   0.,   3.,   1.]),\n",
       " array([0.0119 , 0.02882, 0.04574, 0.06266, 0.07958, 0.0965 , 0.11342,\n",
       "        0.13034, 0.14726, 0.16418, 0.1811 ]),\n",
       " <a list of 10 Patch objects>)"
      ]
     },
     "execution_count": 23,
     "metadata": {},
     "output_type": "execute_result"
    },
    {
     "data": {
      "image/png": "[encoded data removed]",
      "text/plain": [
       "<Figure size 432x288 with 1 Axes>"
      ]
     },
     "metadata": {
      "needs_background": "light"
     },
     "output_type": "display_data"
    }
   ],
   "source": [
    "plt.hist(wts.loc[(wts.ALX > 1) | (wts.ALY > 1)].APH)"
   ]
  },
  {
   "cell_type": "code",
   "execution_count": null,
   "metadata": {},
   "outputs": [],
   "source": []
  }
 ],
 "metadata": {
  "kernelspec": {
   "display_name": "Python 3",
   "language": "python",
   "name": "python3"
  },
  "language_info": {
   "codemirror_mode": {
    "name": "ipython",
    "version": 3
   },
   "file_extension": ".py",
   "mimetype": "text/x-python",
   "name": "python",
   "nbconvert_exporter": "python",
   "pygments_lexer": "ipython3",
   "version": "3.7.1"
  }
 },
 "nbformat": 4,
 "nbformat_minor": 2
}

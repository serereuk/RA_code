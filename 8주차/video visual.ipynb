{
 "cells": [
  {
   "cell_type": "code",
   "execution_count": 27,
   "metadata": {},
   "outputs": [],
   "source": [
    "import cv2\n",
    "import pandas as pd\n",
    "import numpy as np\n",
    "import matplotlib.pyplot as plt"
   ]
  },
  {
   "cell_type": "code",
   "execution_count": 28,
   "metadata": {},
   "outputs": [],
   "source": [
    "import os \n",
    "os.chdir('/Users/Wook-Young/Desktop/RA/code/RA_code')"
   ]
  },
  {
   "cell_type": "code",
   "execution_count": 46,
   "metadata": {},
   "outputs": [],
   "source": [
    "data = pd.read_csv(\"khc1.txt\")\n",
    "data = data.loc[data.ATT < 82]\n",
    "corrected = pd.read_csv(\"ckhc1.txt\")\n",
    "test = pd.read_csv(\"ckhc11.txt\")"
   ]
  },
  {
   "cell_type": "code",
   "execution_count": 47,
   "metadata": {},
   "outputs": [
    {
     "data": {
      "text/plain": [
       "((4916, 20), (4916, 3), (4916, 3))"
      ]
     },
     "execution_count": 47,
     "metadata": {},
     "output_type": "execute_result"
    }
   ],
   "source": [
    "data.shape, corrected.shape, test.shape"
   ]
  },
  {
   "cell_type": "code",
   "execution_count": 48,
   "metadata": {},
   "outputs": [
    {
     "data": {
      "text/html": [
       "<div>\n",
       "<style scoped>\n",
       "    .dataframe tbody tr th:only-of-type {\n",
       "        vertical-align: middle;\n",
       "    }\n",
       "\n",
       "    .dataframe tbody tr th {\n",
       "        vertical-align: top;\n",
       "    }\n",
       "\n",
       "    .dataframe thead th {\n",
       "        text-align: right;\n",
       "    }\n",
       "</style>\n",
       "<table border=\"1\" class=\"dataframe\">\n",
       "  <thead>\n",
       "    <tr style=\"text-align: right;\">\n",
       "      <th></th>\n",
       "      <th>ATT</th>\n",
       "      <th>ADT</th>\n",
       "      <th>ALX</th>\n",
       "      <th>ALY</th>\n",
       "      <th>ARI</th>\n",
       "      <th>APW</th>\n",
       "      <th>APH</th>\n",
       "      <th>AQU</th>\n",
       "      <th>AFX</th>\n",
       "      <th>BTT</th>\n",
       "      <th>BDT</th>\n",
       "      <th>BLX</th>\n",
       "      <th>BLY</th>\n",
       "      <th>BRI</th>\n",
       "      <th>BPW</th>\n",
       "      <th>BPH</th>\n",
       "      <th>BQU</th>\n",
       "      <th>BFX</th>\n",
       "      <th>CNT</th>\n",
       "      <th>MRK</th>\n",
       "    </tr>\n",
       "  </thead>\n",
       "  <tbody>\n",
       "    <tr>\n",
       "      <th>0</th>\n",
       "      <td>0.0000</td>\n",
       "      <td>0.0000</td>\n",
       "      <td>0.4583</td>\n",
       "      <td>0.2623</td>\n",
       "      <td>-1</td>\n",
       "      <td>0.2357</td>\n",
       "      <td>0.1983</td>\n",
       "      <td>1</td>\n",
       "      <td>0.0166</td>\n",
       "      <td>-0.0031</td>\n",
       "      <td>-3.0842</td>\n",
       "      <td>0.4520</td>\n",
       "      <td>0.2207</td>\n",
       "      <td>-1</td>\n",
       "      <td>0.2505</td>\n",
       "      <td>0.2030</td>\n",
       "      <td>1</td>\n",
       "      <td>0.0167</td>\n",
       "      <td>0</td>\n",
       "      <td>=,+\"</td>\n",
       "    </tr>\n",
       "    <tr>\n",
       "      <th>1</th>\n",
       "      <td>0.0168</td>\n",
       "      <td>16.7734</td>\n",
       "      <td>0.4417</td>\n",
       "      <td>0.2593</td>\n",
       "      <td>-1</td>\n",
       "      <td>0.2415</td>\n",
       "      <td>0.1911</td>\n",
       "      <td>1</td>\n",
       "      <td>0.0168</td>\n",
       "      <td>0.0136</td>\n",
       "      <td>16.6993</td>\n",
       "      <td>0.4378</td>\n",
       "      <td>0.2330</td>\n",
       "      <td>-1</td>\n",
       "      <td>0.2500</td>\n",
       "      <td>0.2144</td>\n",
       "      <td>1</td>\n",
       "      <td>0.0167</td>\n",
       "      <td>1</td>\n",
       "      <td>\"</td>\n",
       "    </tr>\n",
       "    <tr>\n",
       "      <th>2</th>\n",
       "      <td>0.0333</td>\n",
       "      <td>16.5722</td>\n",
       "      <td>0.4321</td>\n",
       "      <td>0.2631</td>\n",
       "      <td>-1</td>\n",
       "      <td>0.2492</td>\n",
       "      <td>0.1963</td>\n",
       "      <td>1</td>\n",
       "      <td>0.0166</td>\n",
       "      <td>0.0303</td>\n",
       "      <td>16.7111</td>\n",
       "      <td>0.4520</td>\n",
       "      <td>0.2207</td>\n",
       "      <td>-1</td>\n",
       "      <td>0.2505</td>\n",
       "      <td>0.2030</td>\n",
       "      <td>1</td>\n",
       "      <td>0.0167</td>\n",
       "      <td>2</td>\n",
       "      <td>\"</td>\n",
       "    </tr>\n",
       "    <tr>\n",
       "      <th>3</th>\n",
       "      <td>0.0502</td>\n",
       "      <td>16.8357</td>\n",
       "      <td>0.4174</td>\n",
       "      <td>0.2383</td>\n",
       "      <td>-1</td>\n",
       "      <td>0.2420</td>\n",
       "      <td>0.1882</td>\n",
       "      <td>1</td>\n",
       "      <td>0.0168</td>\n",
       "      <td>0.0470</td>\n",
       "      <td>16.6493</td>\n",
       "      <td>0.3234</td>\n",
       "      <td>0.2790</td>\n",
       "      <td>-1</td>\n",
       "      <td>0.2515</td>\n",
       "      <td>0.2184</td>\n",
       "      <td>1</td>\n",
       "      <td>0.0166</td>\n",
       "      <td>3</td>\n",
       "      <td>\"</td>\n",
       "    </tr>\n",
       "    <tr>\n",
       "      <th>4</th>\n",
       "      <td>0.0668</td>\n",
       "      <td>16.5800</td>\n",
       "      <td>0.4378</td>\n",
       "      <td>0.2569</td>\n",
       "      <td>-1</td>\n",
       "      <td>0.2495</td>\n",
       "      <td>0.1971</td>\n",
       "      <td>1</td>\n",
       "      <td>0.0166</td>\n",
       "      <td>0.0637</td>\n",
       "      <td>16.6977</td>\n",
       "      <td>0.4535</td>\n",
       "      <td>0.2500</td>\n",
       "      <td>-1</td>\n",
       "      <td>0.2542</td>\n",
       "      <td>0.2218</td>\n",
       "      <td>1</td>\n",
       "      <td>0.0167</td>\n",
       "      <td>4</td>\n",
       "      <td>\"</td>\n",
       "    </tr>\n",
       "  </tbody>\n",
       "</table>\n",
       "</div>"
      ],
      "text/plain": [
       "      ATT      ADT     ALX     ALY  ARI     APW     APH  AQU     AFX     BTT  \\\n",
       "0  0.0000   0.0000  0.4583  0.2623   -1  0.2357  0.1983    1  0.0166 -0.0031   \n",
       "1  0.0168  16.7734  0.4417  0.2593   -1  0.2415  0.1911    1  0.0168  0.0136   \n",
       "2  0.0333  16.5722  0.4321  0.2631   -1  0.2492  0.1963    1  0.0166  0.0303   \n",
       "3  0.0502  16.8357  0.4174  0.2383   -1  0.2420  0.1882    1  0.0168  0.0470   \n",
       "4  0.0668  16.5800  0.4378  0.2569   -1  0.2495  0.1971    1  0.0166  0.0637   \n",
       "\n",
       "       BDT     BLX     BLY  BRI     BPW     BPH  BQU     BFX  CNT   MRK  \n",
       "0  -3.0842  0.4520  0.2207   -1  0.2505  0.2030    1  0.0167    0  =,+\"  \n",
       "1  16.6993  0.4378  0.2330   -1  0.2500  0.2144    1  0.0167    1     \"  \n",
       "2  16.7111  0.4520  0.2207   -1  0.2505  0.2030    1  0.0167    2     \"  \n",
       "3  16.6493  0.3234  0.2790   -1  0.2515  0.2184    1  0.0166    3     \"  \n",
       "4  16.6977  0.4535  0.2500   -1  0.2542  0.2218    1  0.0167    4     \"  "
      ]
     },
     "metadata": {},
     "output_type": "display_data"
    }
   ],
   "source": [
    "from IPython.display import display\n",
    "display(data.head())"
   ]
  },
  {
   "cell_type": "code",
   "execution_count": 49,
   "metadata": {},
   "outputs": [
    {
     "data": {
      "text/html": [
       "<div>\n",
       "<style scoped>\n",
       "    .dataframe tbody tr th:only-of-type {\n",
       "        vertical-align: middle;\n",
       "    }\n",
       "\n",
       "    .dataframe tbody tr th {\n",
       "        vertical-align: top;\n",
       "    }\n",
       "\n",
       "    .dataframe thead th {\n",
       "        text-align: right;\n",
       "    }\n",
       "</style>\n",
       "<table border=\"1\" class=\"dataframe\">\n",
       "  <thead>\n",
       "    <tr style=\"text-align: right;\">\n",
       "      <th></th>\n",
       "      <th>Unnamed: 0</th>\n",
       "      <th>0</th>\n",
       "      <th>1</th>\n",
       "    </tr>\n",
       "  </thead>\n",
       "  <tbody>\n",
       "    <tr>\n",
       "      <th>0</th>\n",
       "      <td>0</td>\n",
       "      <td>0.899355</td>\n",
       "      <td>0.366938</td>\n",
       "    </tr>\n",
       "    <tr>\n",
       "      <th>1</th>\n",
       "      <td>1</td>\n",
       "      <td>0.896581</td>\n",
       "      <td>0.367355</td>\n",
       "    </tr>\n",
       "    <tr>\n",
       "      <th>2</th>\n",
       "      <td>2</td>\n",
       "      <td>0.895001</td>\n",
       "      <td>0.367573</td>\n",
       "    </tr>\n",
       "    <tr>\n",
       "      <th>3</th>\n",
       "      <td>3</td>\n",
       "      <td>0.890896</td>\n",
       "      <td>0.367462</td>\n",
       "    </tr>\n",
       "    <tr>\n",
       "      <th>4</th>\n",
       "      <td>4</td>\n",
       "      <td>0.895757</td>\n",
       "      <td>0.367388</td>\n",
       "    </tr>\n",
       "  </tbody>\n",
       "</table>\n",
       "</div>"
      ],
      "text/plain": [
       "   Unnamed: 0         0         1\n",
       "0           0  0.899355  0.366938\n",
       "1           1  0.896581  0.367355\n",
       "2           2  0.895001  0.367573\n",
       "3           3  0.890896  0.367462\n",
       "4           4  0.895757  0.367388"
      ]
     },
     "metadata": {},
     "output_type": "display_data"
    }
   ],
   "source": [
    "display(corrected.head())"
   ]
  },
  {
   "cell_type": "code",
   "execution_count": 50,
   "metadata": {},
   "outputs": [
    {
     "data": {
      "text/html": [
       "<div>\n",
       "<style scoped>\n",
       "    .dataframe tbody tr th:only-of-type {\n",
       "        vertical-align: middle;\n",
       "    }\n",
       "\n",
       "    .dataframe tbody tr th {\n",
       "        vertical-align: top;\n",
       "    }\n",
       "\n",
       "    .dataframe thead th {\n",
       "        text-align: right;\n",
       "    }\n",
       "</style>\n",
       "<table border=\"1\" class=\"dataframe\">\n",
       "  <thead>\n",
       "    <tr style=\"text-align: right;\">\n",
       "      <th></th>\n",
       "      <th>Unnamed: 0</th>\n",
       "      <th>0</th>\n",
       "      <th>1</th>\n",
       "    </tr>\n",
       "  </thead>\n",
       "  <tbody>\n",
       "    <tr>\n",
       "      <th>0</th>\n",
       "      <td>0</td>\n",
       "      <td>0.900159</td>\n",
       "      <td>0.366895</td>\n",
       "    </tr>\n",
       "    <tr>\n",
       "      <th>1</th>\n",
       "      <td>1</td>\n",
       "      <td>0.900164</td>\n",
       "      <td>0.366776</td>\n",
       "    </tr>\n",
       "    <tr>\n",
       "      <th>2</th>\n",
       "      <td>2</td>\n",
       "      <td>0.900161</td>\n",
       "      <td>0.366680</td>\n",
       "    </tr>\n",
       "    <tr>\n",
       "      <th>3</th>\n",
       "      <td>3</td>\n",
       "      <td>0.900274</td>\n",
       "      <td>0.366694</td>\n",
       "    </tr>\n",
       "    <tr>\n",
       "      <th>4</th>\n",
       "      <td>4</td>\n",
       "      <td>0.900168</td>\n",
       "      <td>0.366757</td>\n",
       "    </tr>\n",
       "  </tbody>\n",
       "</table>\n",
       "</div>"
      ],
      "text/plain": [
       "   Unnamed: 0         0         1\n",
       "0           0  0.900159  0.366895\n",
       "1           1  0.900164  0.366776\n",
       "2           2  0.900161  0.366680\n",
       "3           3  0.900274  0.366694\n",
       "4           4  0.900168  0.366757"
      ]
     },
     "metadata": {},
     "output_type": "display_data"
    }
   ],
   "source": [
    "display(test.head())"
   ]
  },
  {
   "cell_type": "code",
   "execution_count": 52,
   "metadata": {},
   "outputs": [],
   "source": [
    "cap = cv2.VideoCapture('nw_version1.mov')"
   ]
  },
  {
   "cell_type": "code",
   "execution_count": 53,
   "metadata": {},
   "outputs": [],
   "source": [
    "frames = int(cap.get(cv2.CAP_PROP_FRAME_COUNT))\n",
    "width = int(cap.get(cv2.CAP_PROP_FRAME_WIDTH))\n",
    "height = int(cap.get(cv2.CAP_PROP_FRAME_HEIGHT))"
   ]
  },
  {
   "cell_type": "code",
   "execution_count": 35,
   "metadata": {},
   "outputs": [
    {
     "data": {
      "text/plain": [
       "5045"
      ]
     },
     "execution_count": 35,
     "metadata": {},
     "output_type": "execute_result"
    }
   ],
   "source": [
    "frames"
   ]
  },
  {
   "cell_type": "code",
   "execution_count": 36,
   "metadata": {},
   "outputs": [],
   "source": [
    "x = data.ALX * 800\n",
    "y = data.ALY * 600"
   ]
  },
  {
   "cell_type": "code",
   "execution_count": 37,
   "metadata": {},
   "outputs": [],
   "source": [
    "%matplotlib widget"
   ]
  },
  {
   "cell_type": "code",
   "execution_count": 38,
   "metadata": {},
   "outputs": [
    {
     "data": {
      "application/vnd.jupyter.widget-view+json": {
       "model_id": "",
       "version_major": 2,
       "version_minor": 0
      },
      "text/plain": [
       "FigureCanvasNbAgg()"
      ]
     },
     "metadata": {},
     "output_type": "display_data"
    }
   ],
   "source": [
    "fig, ax = plt.subplots(1,1)\n",
    "plt.ion()\n",
    "plt.show()\n",
    "for i in range(data.shape[0]):\n",
    "    fig.clf()\n",
    "    try:\n",
    "        flag, frame = cap.read()\n",
    "        plt.imshow(frame)\n",
    "        plt.plot(x[i], y[i], 'or')\n",
    "        fig.canvas.draw()\n",
    "    except:\n",
    "        break\n",
    "    "
   ]
  },
  {
   "cell_type": "code",
   "execution_count": 56,
   "metadata": {},
   "outputs": [],
   "source": [
    "cap.release()"
   ]
  },
  {
   "cell_type": "code",
   "execution_count": 40,
   "metadata": {},
   "outputs": [],
   "source": [
    "x = corrected.iloc[:, 1] * 800\n",
    "y = corrected.iloc[:, 2] * 600"
   ]
  },
  {
   "cell_type": "code",
   "execution_count": 41,
   "metadata": {},
   "outputs": [],
   "source": [
    "%matplotlib widget"
   ]
  },
  {
   "cell_type": "code",
   "execution_count": 44,
   "metadata": {},
   "outputs": [
    {
     "data": {
      "application/vnd.jupyter.widget-view+json": {
       "model_id": "",
       "version_major": 2,
       "version_minor": 0
      },
      "text/plain": [
       "FigureCanvasNbAgg()"
      ]
     },
     "metadata": {},
     "output_type": "display_data"
    }
   ],
   "source": [
    "fig, ax = plt.subplots(1,1)\n",
    "plt.ion()\n",
    "plt.show()\n",
    "for i in range(data.shape[0]):\n",
    "    fig.clf()\n",
    "    try:\n",
    "        flag, frame = cap.read()\n",
    "        plt.imshow(frame)\n",
    "        plt.plot(x[i], y[i], 'or')\n",
    "        fig.canvas.draw()\n",
    "    except:\n",
    "        break\n",
    "    "
   ]
  },
  {
   "cell_type": "code",
   "execution_count": 55,
   "metadata": {},
   "outputs": [],
   "source": [
    "cap.release()"
   ]
  },
  {
   "cell_type": "code",
   "execution_count": 51,
   "metadata": {},
   "outputs": [],
   "source": [
    "x = test.iloc[:, 1] * 800\n",
    "y = test.iloc[:, 2] * 600"
   ]
  },
  {
   "cell_type": "code",
   "execution_count": 54,
   "metadata": {},
   "outputs": [
    {
     "data": {
      "application/vnd.jupyter.widget-view+json": {
       "model_id": "36677b4a7ee847cf8a6f452c3cf8bbac",
       "version_major": 2,
       "version_minor": 0
      },
      "text/plain": [
       "FigureCanvasNbAgg()"
      ]
     },
     "metadata": {},
     "output_type": "display_data"
    }
   ],
   "source": [
    "%matplotlib widget\n",
    "fig, ax = plt.subplots(1,1)\n",
    "plt.ion()\n",
    "plt.show()\n",
    "for i in range(data.shape[0]):\n",
    "    fig.clf()\n",
    "    try:\n",
    "        flag, frame = cap.read()\n",
    "        plt.imshow(frame)\n",
    "        plt.plot(x[i], y[i], 'or')\n",
    "        fig.canvas.draw()\n",
    "    except:\n",
    "        break\n",
    "    "
   ]
  },
  {
   "cell_type": "code",
   "execution_count": 57,
   "metadata": {},
   "outputs": [],
   "source": [
    "cap.release()"
   ]
  },
  {
   "cell_type": "code",
   "execution_count": null,
   "metadata": {},
   "outputs": [],
   "source": []
  }
 ],
 "metadata": {
  "kernelspec": {
   "display_name": "Python 3",
   "language": "python",
   "name": "python3"
  },
  "language_info": {
   "codemirror_mode": {
    "name": "ipython",
    "version": 3
   },
   "file_extension": ".py",
   "mimetype": "text/x-python",
   "name": "python",
   "nbconvert_exporter": "python",
   "pygments_lexer": "ipython3",
   "version": "3.7.1"
  }
 },
 "nbformat": 4,
 "nbformat_minor": 2
}

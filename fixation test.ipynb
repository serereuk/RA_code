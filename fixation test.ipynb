{
 "cells": [
  {
   "cell_type": "code",
   "execution_count": 1,
   "metadata": {},
   "outputs": [],
   "source": [
    "import pandas as pd\n",
    "import numpy as np\n",
    "data = pd.read_csv(\"khc01221.txt\")"
   ]
  },
  {
   "cell_type": "code",
   "execution_count": 2,
   "metadata": {},
   "outputs": [
    {
     "data": {
      "text/html": [
       "<div>\n",
       "<style scoped>\n",
       "    .dataframe tbody tr th:only-of-type {\n",
       "        vertical-align: middle;\n",
       "    }\n",
       "\n",
       "    .dataframe tbody tr th {\n",
       "        vertical-align: top;\n",
       "    }\n",
       "\n",
       "    .dataframe thead th {\n",
       "        text-align: right;\n",
       "    }\n",
       "</style>\n",
       "<table border=\"1\" class=\"dataframe\">\n",
       "  <thead>\n",
       "    <tr style=\"text-align: right;\">\n",
       "      <th></th>\n",
       "      <th>ATT</th>\n",
       "      <th>ADT</th>\n",
       "      <th>ALX</th>\n",
       "      <th>ALY</th>\n",
       "      <th>ARI</th>\n",
       "      <th>APW</th>\n",
       "      <th>APH</th>\n",
       "      <th>AQU</th>\n",
       "      <th>AFX</th>\n",
       "      <th>BTT</th>\n",
       "      <th>BDT</th>\n",
       "      <th>BLX</th>\n",
       "      <th>BLY</th>\n",
       "      <th>BRI</th>\n",
       "      <th>BPW</th>\n",
       "      <th>BPH</th>\n",
       "      <th>BQU</th>\n",
       "      <th>BFX</th>\n",
       "      <th>CNT</th>\n",
       "      <th>MRK</th>\n",
       "    </tr>\n",
       "  </thead>\n",
       "  <tbody>\n",
       "    <tr>\n",
       "      <th>0</th>\n",
       "      <td>0.0000</td>\n",
       "      <td>0.0000</td>\n",
       "      <td>0.2349</td>\n",
       "      <td>0.1531</td>\n",
       "      <td>-1</td>\n",
       "      <td>0.2055</td>\n",
       "      <td>0.1947</td>\n",
       "      <td>1</td>\n",
       "      <td>0.0167</td>\n",
       "      <td>-0.0016</td>\n",
       "      <td>-1.6466</td>\n",
       "      <td>0.3625</td>\n",
       "      <td>-0.0238</td>\n",
       "      <td>-1</td>\n",
       "      <td>0.2552</td>\n",
       "      <td>0.2234</td>\n",
       "      <td>1</td>\n",
       "      <td>0.0166</td>\n",
       "      <td>0</td>\n",
       "      <td>+,+\"</td>\n",
       "    </tr>\n",
       "    <tr>\n",
       "      <th>1</th>\n",
       "      <td>0.0456</td>\n",
       "      <td>45.6178</td>\n",
       "      <td>0.2377</td>\n",
       "      <td>0.1022</td>\n",
       "      <td>-1</td>\n",
       "      <td>0.2315</td>\n",
       "      <td>0.1978</td>\n",
       "      <td>1</td>\n",
       "      <td>0.0623</td>\n",
       "      <td>0.0436</td>\n",
       "      <td>45.2731</td>\n",
       "      <td>0.3630</td>\n",
       "      <td>-0.0154</td>\n",
       "      <td>-1</td>\n",
       "      <td>0.2483</td>\n",
       "      <td>0.2175</td>\n",
       "      <td>1</td>\n",
       "      <td>0.0453</td>\n",
       "      <td>1</td>\n",
       "      <td>\"</td>\n",
       "    </tr>\n",
       "    <tr>\n",
       "      <th>2</th>\n",
       "      <td>0.0500</td>\n",
       "      <td>4.3726</td>\n",
       "      <td>0.2624</td>\n",
       "      <td>0.3642</td>\n",
       "      <td>-1</td>\n",
       "      <td>0.2045</td>\n",
       "      <td>0.1318</td>\n",
       "      <td>1</td>\n",
       "      <td>0.0044</td>\n",
       "      <td>0.0485</td>\n",
       "      <td>4.8696</td>\n",
       "      <td>0.3616</td>\n",
       "      <td>0.0083</td>\n",
       "      <td>-1</td>\n",
       "      <td>0.2522</td>\n",
       "      <td>0.2174</td>\n",
       "      <td>1</td>\n",
       "      <td>0.0049</td>\n",
       "      <td>2</td>\n",
       "      <td>\"</td>\n",
       "    </tr>\n",
       "    <tr>\n",
       "      <th>3</th>\n",
       "      <td>0.0667</td>\n",
       "      <td>16.7552</td>\n",
       "      <td>0.2513</td>\n",
       "      <td>0.1160</td>\n",
       "      <td>-1</td>\n",
       "      <td>0.2567</td>\n",
       "      <td>0.2101</td>\n",
       "      <td>1</td>\n",
       "      <td>0.0168</td>\n",
       "      <td>0.0651</td>\n",
       "      <td>16.6164</td>\n",
       "      <td>0.3676</td>\n",
       "      <td>0.0187</td>\n",
       "      <td>-1</td>\n",
       "      <td>0.2462</td>\n",
       "      <td>0.2124</td>\n",
       "      <td>1</td>\n",
       "      <td>0.0166</td>\n",
       "      <td>3</td>\n",
       "      <td>\"</td>\n",
       "    </tr>\n",
       "    <tr>\n",
       "      <th>4</th>\n",
       "      <td>0.0834</td>\n",
       "      <td>16.6555</td>\n",
       "      <td>0.2566</td>\n",
       "      <td>0.0306</td>\n",
       "      <td>-1</td>\n",
       "      <td>0.2800</td>\n",
       "      <td>0.2289</td>\n",
       "      <td>1</td>\n",
       "      <td>0.0167</td>\n",
       "      <td>0.0818</td>\n",
       "      <td>16.7150</td>\n",
       "      <td>0.3632</td>\n",
       "      <td>0.0060</td>\n",
       "      <td>-1</td>\n",
       "      <td>0.2404</td>\n",
       "      <td>0.2106</td>\n",
       "      <td>1</td>\n",
       "      <td>0.0167</td>\n",
       "      <td>4</td>\n",
       "      <td>\"</td>\n",
       "    </tr>\n",
       "  </tbody>\n",
       "</table>\n",
       "</div>"
      ],
      "text/plain": [
       "      ATT      ADT     ALX     ALY  ARI     APW     APH  AQU     AFX     BTT  \\\n",
       "0  0.0000   0.0000  0.2349  0.1531   -1  0.2055  0.1947    1  0.0167 -0.0016   \n",
       "1  0.0456  45.6178  0.2377  0.1022   -1  0.2315  0.1978    1  0.0623  0.0436   \n",
       "2  0.0500   4.3726  0.2624  0.3642   -1  0.2045  0.1318    1  0.0044  0.0485   \n",
       "3  0.0667  16.7552  0.2513  0.1160   -1  0.2567  0.2101    1  0.0168  0.0651   \n",
       "4  0.0834  16.6555  0.2566  0.0306   -1  0.2800  0.2289    1  0.0167  0.0818   \n",
       "\n",
       "       BDT     BLX     BLY  BRI     BPW     BPH  BQU     BFX  CNT   MRK  \n",
       "0  -1.6466  0.3625 -0.0238   -1  0.2552  0.2234    1  0.0166    0  +,+\"  \n",
       "1  45.2731  0.3630 -0.0154   -1  0.2483  0.2175    1  0.0453    1     \"  \n",
       "2   4.8696  0.3616  0.0083   -1  0.2522  0.2174    1  0.0049    2     \"  \n",
       "3  16.6164  0.3676  0.0187   -1  0.2462  0.2124    1  0.0166    3     \"  \n",
       "4  16.7150  0.3632  0.0060   -1  0.2404  0.2106    1  0.0167    4     \"  "
      ]
     },
     "execution_count": 2,
     "metadata": {},
     "output_type": "execute_result"
    }
   ],
   "source": [
    "data.head()"
   ]
  },
  {
   "cell_type": "code",
   "execution_count": 12,
   "metadata": {},
   "outputs": [
    {
     "data": {
      "text/plain": [
       "array([0.0167, 0.0168, 0.2335])"
      ]
     },
     "execution_count": 12,
     "metadata": {},
     "output_type": "execute_result"
    }
   ],
   "source": [
    "np.percentile(data.AFX, [25, 50, 75])"
   ]
  },
  {
   "cell_type": "code",
   "execution_count": 7,
   "metadata": {},
   "outputs": [
    {
     "data": {
      "text/plain": [
       "(array([3605.,  501.,  356.,  224.,  125.,   75.,   33.,   22.,   21.,\n",
       "          12.]),\n",
       " array([0.    , 0.1885, 0.377 , 0.5655, 0.754 , 0.9425, 1.131 , 1.3195,\n",
       "        1.508 , 1.6965, 1.885 ]),\n",
       " <a list of 10 Patch objects>)"
      ]
     },
     "execution_count": 7,
     "metadata": {},
     "output_type": "execute_result"
    },
    {
     "data": {
      "image/png": "[encoded data removed]",
      "text/plain": [
       "<Figure size 432x288 with 1 Axes>"
      ]
     },
     "metadata": {
      "needs_background": "light"
     },
     "output_type": "display_data"
    }
   ],
   "source": [
    "%matplotlib inline\n",
    "import matplotlib.pyplot as plt\n",
    "plt.hist(data.AFX)"
   ]
  },
  {
   "cell_type": "code",
   "execution_count": 8,
   "metadata": {},
   "outputs": [
    {
     "data": {
      "text/plain": [
       "(2522, 20)"
      ]
     },
     "execution_count": 8,
     "metadata": {},
     "output_type": "execute_result"
    }
   ],
   "source": [
    "data.loc[data.AFX > 0.0167].shape"
   ]
  },
  {
   "cell_type": "code",
   "execution_count": 13,
   "metadata": {},
   "outputs": [
    {
     "data": {
      "text/plain": [
       "0.17776664656212393"
      ]
     },
     "execution_count": 13,
     "metadata": {},
     "output_type": "execute_result"
    }
   ],
   "source": [
    "np.mean(data.AFX)"
   ]
  },
  {
   "cell_type": "code",
   "execution_count": 14,
   "metadata": {},
   "outputs": [],
   "source": [
    "data = data.loc[data.AFX > 0.0167]"
   ]
  },
  {
   "cell_type": "code",
   "execution_count": 15,
   "metadata": {},
   "outputs": [
    {
     "data": {
      "text/plain": [
       "(-0.1, 1)"
      ]
     },
     "execution_count": 15,
     "metadata": {},
     "output_type": "execute_result"
    },
    {
     "data": {
      "image/png": "[encoded data removed]",
      "text/plain": [
       "<Figure size 432x288 with 1 Axes>"
      ]
     },
     "metadata": {
      "needs_background": "light"
     },
     "output_type": "display_data"
    }
   ],
   "source": [
    "plt.scatter(data.ALX, data.ALY, c = \"black\");plt.xlim(-0.1,1);plt.ylim(-0.1,1)"
   ]
  },
  {
   "cell_type": "code",
   "execution_count": 19,
   "metadata": {},
   "outputs": [],
   "source": [
    "import torch\n",
    "import torch.nn as nn\n",
    "import torch.nn.functional as F\n",
    "from torch.autograd import Variable as V"
   ]
  },
  {
   "cell_type": "code",
   "execution_count": 20,
   "metadata": {},
   "outputs": [],
   "source": [
    "def timecut(data):\n",
    "    temps = pd.DataFrame()\n",
    "    x=[0.1,11/30,0.9,0.1,0.9,0.9,0.1,19/30,19/30,11/30,19/30,11/30,11/30,0.9,0.1,19/30]\n",
    "    y = [0.1,19/30,0.9,11/30,19/30,0.1,0.9,0.9,0.1,0.9,19/30,0.1,11/30,11/30,19/30,11/30]\n",
    "    for i in range(0, 16):\n",
    "        temp = pd.DataFrame({\"X\": data.ALX.loc[(data.ATT >= 2 + 5 * i) & (data.ATT < 7  + 5 * i)],\n",
    "                            \"Y\": data.ALY.loc[(data.ATT >= 2 + 5 * i) & (data.ATT < 7  + 5 * i)]})\n",
    "        temp = pd.concat([temp.reset_index(), pd.DataFrame( {\"x\":[x[i]]*temp.shape[0]} ), pd.DataFrame({\"y\":[y[i]]*temp.shape[0]}) ], axis = 1)\n",
    "        temps = pd.concat([temps, temp])\n",
    "    return temps"
   ]
  },
  {
   "cell_type": "code",
   "execution_count": 21,
   "metadata": {},
   "outputs": [],
   "source": [
    "from torch.utils.data import Dataset, DataLoader\n",
    "\n",
    "class dss(Dataset):\n",
    "    def __init__(self, a):\n",
    "        a = timecut(a).iloc[:,1:5]\n",
    "        self.len = a.shape[0]\n",
    "        self.x_data = torch.from_numpy(a.iloc[:,0:2].values).float()\n",
    "        self.y_data = torch.from_numpy(a.iloc[:,2:4].values).float()\n",
    "        \n",
    "    def __getitem__(self, index):\n",
    "        return self.x_data[index], self.y_data[index]\n",
    "    \n",
    "    def __len__(self):\n",
    "        return self.len\n",
    "\n",
    "size = len(data)\n",
    "indices = list(range(size))\n",
    "split = int(np.floor(0.3 * size))\n",
    "np.random.seed(123)\n",
    "np.random.shuffle(indices)\n",
    "\n",
    "train_indices, test_indices = indices[split:], indices[:split]\n",
    "train_data=data.iloc[train_indices, :]\n",
    "test_data = data.iloc[test_indices, :]\n",
    "dstrain = dss(train_data)\n",
    "dstest = dss(test_data)\n",
    "trainloader = DataLoader(dataset = dstrain, batch_size = 32, shuffle = True)\n",
    "testloader = DataLoader(dataset = dstest, batch_size = 32, shuffle = False)"
   ]
  },
  {
   "cell_type": "code",
   "execution_count": 22,
   "metadata": {},
   "outputs": [],
   "source": [
    "class optim2(nn.Module):\n",
    "    \n",
    "    def __init__(self, inputs, H, H2,outputs):\n",
    "        super(optim2, self).__init__()\n",
    "        self.linear1 = torch.nn.Linear(inputs, H)\n",
    "        self.linear2 = torch.nn.Linear(H, H2)\n",
    "        self.linear3 = torch.nn.Linear(H2, outputs)\n",
    "        \n",
    "    def forward(self, x):\n",
    "        h_relu = self.linear1(x).clamp(min=0)\n",
    "        h_relu2 = self.linear2(h_relu).clamp(min=0)\n",
    "        y_pred = self.linear3(h_relu2)\n",
    "        return y_pred"
   ]
  },
  {
   "cell_type": "code",
   "execution_count": 23,
   "metadata": {},
   "outputs": [
    {
     "name": "stderr",
     "output_type": "stream",
     "text": [
      "/anaconda3/lib/python3.7/site-packages/torch/nn/_reduction.py:49: UserWarning: size_average and reduce args will be deprecated, please use reduction='mean' instead.\n",
      "  warnings.warn(warning.format(ret))\n"
     ]
    }
   ],
   "source": [
    "inputs, H, H2,outputs = 2, 20, 20,2\n",
    "for_graph = []; test_loss = []\n",
    "\n",
    "model = optim2(inputs, H, H2,outputs)\n",
    "criteria = torch.nn.MSELoss(size_average= True)\n",
    "optimizer = torch.optim.Adam(model.parameters(), lr = 1e-4)\n",
    "\n",
    "for t in range(300):\n",
    "    for i, datas in enumerate(trainloader):\n",
    "        In, label = datas\n",
    "        In, label = V(In), V(label)\n",
    "        y_pred = model(In)\n",
    "        loss = criteria(y_pred, label)\n",
    "        for_graph.append(loss.item())\n",
    "        optimizer.zero_grad()\n",
    "        loss.backward()\n",
    "        optimizer.step()\n",
    "        if t % 100 == 99:\n",
    "            with torch.no_grad():\n",
    "                for datass in testloader:\n",
    "                    In, label = datass\n",
    "                    outputs = model(In)\n",
    "                    test_loss.append(np.mean((label.numpy() - outputs.numpy())**2))"
   ]
  },
  {
   "cell_type": "code",
   "execution_count": 26,
   "metadata": {},
   "outputs": [],
   "source": [
    "datas = pd.read_csv(\"khc01221.txt\")"
   ]
  },
  {
   "cell_type": "code",
   "execution_count": 27,
   "metadata": {},
   "outputs": [],
   "source": [
    "out = pd.DataFrame(model(torch.from_numpy(datas.iloc[:,2:4].values).float()).detach().numpy())"
   ]
  },
  {
   "cell_type": "code",
   "execution_count": 28,
   "metadata": {},
   "outputs": [
    {
     "data": {
      "image/png": "[encoded data removed]",
      "text/plain": [
       "<Figure size 432x288 with 1 Axes>"
      ]
     },
     "metadata": {
      "needs_background": "light"
     },
     "output_type": "display_data"
    }
   ],
   "source": [
    "ax = plt.gca()\n",
    "ax.scatter(out.iloc[:,0], out.iloc[:,1], c= \"black\")\n",
    "x=[0.1,11/30,0.9,0.1,0.9,0.9,0.1,19/30,19/30,11/30,19/30,11/30,11/30,0.9,0.1,19/30]\n",
    "y=[0.1,19/30,0.9,11/30,19/30,0.1,0.9,0.9,0.1,0.9,19/30,0.1,11/30,11/30,19/30,11/30]\n",
    "for i in range(len(x)):\n",
    "    temp = plt.Circle((x[i], y[i]), 1/16, color = \"r\", fill = False)\n",
    "    ax.add_artist(temp)\n",
    "\n"
   ]
  },
  {
   "cell_type": "code",
   "execution_count": null,
   "metadata": {},
   "outputs": [],
   "source": []
  }
 ],
 "metadata": {
  "kernelspec": {
   "display_name": "Python 3",
   "language": "python",
   "name": "python3"
  },
  "language_info": {
   "codemirror_mode": {
    "name": "ipython",
    "version": 3
   },
   "file_extension": ".py",
   "mimetype": "text/x-python",
   "name": "python",
   "nbconvert_exporter": "python",
   "pygments_lexer": "ipython3",
   "version": "3.7.1"
  }
 },
 "nbformat": 4,
 "nbformat_minor": 2
}

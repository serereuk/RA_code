{
 "cells": [
  {
   "cell_type": "code",
   "execution_count": 138,
   "metadata": {},
   "outputs": [],
   "source": [
    "from scipy.optimize import fmin as optim\n",
    "import numpy as np"
   ]
  },
  {
   "cell_type": "code",
   "execution_count": 139,
   "metadata": {},
   "outputs": [],
   "source": [
    "def minis(xy, points, p):\n",
    "    \n",
    "    def ft(a):\n",
    "        a = a.reshape(p,2)\n",
    "        coords = np.matmul(xy,a)\n",
    "        dists = np.sum((coords - points)**2, axis = 1)\n",
    "        return sum(dists)\n",
    "    \n",
    "    transfer = optim(ft, np.ones([p,2]))\n",
    "    transfer = transfer.reshape(p,2)\n",
    "    print(transfer)\n",
    "    C = np.matmul(xy, transfer)\n",
    "    return C "
   ]
  },
  {
   "cell_type": "code",
   "execution_count": 158,
   "metadata": {},
   "outputs": [],
   "source": [
    "import pandas as pd\n",
    "data = pd.read_csv(\"khc01221.txt\")"
   ]
  },
  {
   "cell_type": "code",
   "execution_count": 159,
   "metadata": {},
   "outputs": [
    {
     "data": {
      "text/html": [
       "<div>\n",
       "<style scoped>\n",
       "    .dataframe tbody tr th:only-of-type {\n",
       "        vertical-align: middle;\n",
       "    }\n",
       "\n",
       "    .dataframe tbody tr th {\n",
       "        vertical-align: top;\n",
       "    }\n",
       "\n",
       "    .dataframe thead th {\n",
       "        text-align: right;\n",
       "    }\n",
       "</style>\n",
       "<table border=\"1\" class=\"dataframe\">\n",
       "  <thead>\n",
       "    <tr style=\"text-align: right;\">\n",
       "      <th></th>\n",
       "      <th>ATT</th>\n",
       "      <th>ADT</th>\n",
       "      <th>ALX</th>\n",
       "      <th>ALY</th>\n",
       "      <th>ARI</th>\n",
       "      <th>APW</th>\n",
       "      <th>APH</th>\n",
       "      <th>AQU</th>\n",
       "      <th>AFX</th>\n",
       "      <th>BTT</th>\n",
       "      <th>BDT</th>\n",
       "      <th>BLX</th>\n",
       "      <th>BLY</th>\n",
       "      <th>BRI</th>\n",
       "      <th>BPW</th>\n",
       "      <th>BPH</th>\n",
       "      <th>BQU</th>\n",
       "      <th>BFX</th>\n",
       "      <th>CNT</th>\n",
       "      <th>MRK</th>\n",
       "    </tr>\n",
       "  </thead>\n",
       "  <tbody>\n",
       "    <tr>\n",
       "      <th>0</th>\n",
       "      <td>0.0000</td>\n",
       "      <td>0.0000</td>\n",
       "      <td>0.2349</td>\n",
       "      <td>0.1531</td>\n",
       "      <td>-1</td>\n",
       "      <td>0.2055</td>\n",
       "      <td>0.1947</td>\n",
       "      <td>1</td>\n",
       "      <td>0.0167</td>\n",
       "      <td>-0.0016</td>\n",
       "      <td>-1.6466</td>\n",
       "      <td>0.3625</td>\n",
       "      <td>-0.0238</td>\n",
       "      <td>-1</td>\n",
       "      <td>0.2552</td>\n",
       "      <td>0.2234</td>\n",
       "      <td>1</td>\n",
       "      <td>0.0166</td>\n",
       "      <td>0</td>\n",
       "      <td>+,+\"</td>\n",
       "    </tr>\n",
       "    <tr>\n",
       "      <th>1</th>\n",
       "      <td>0.0456</td>\n",
       "      <td>45.6178</td>\n",
       "      <td>0.2377</td>\n",
       "      <td>0.1022</td>\n",
       "      <td>-1</td>\n",
       "      <td>0.2315</td>\n",
       "      <td>0.1978</td>\n",
       "      <td>1</td>\n",
       "      <td>0.0623</td>\n",
       "      <td>0.0436</td>\n",
       "      <td>45.2731</td>\n",
       "      <td>0.3630</td>\n",
       "      <td>-0.0154</td>\n",
       "      <td>-1</td>\n",
       "      <td>0.2483</td>\n",
       "      <td>0.2175</td>\n",
       "      <td>1</td>\n",
       "      <td>0.0453</td>\n",
       "      <td>1</td>\n",
       "      <td>\"</td>\n",
       "    </tr>\n",
       "    <tr>\n",
       "      <th>2</th>\n",
       "      <td>0.0500</td>\n",
       "      <td>4.3726</td>\n",
       "      <td>0.2624</td>\n",
       "      <td>0.3642</td>\n",
       "      <td>-1</td>\n",
       "      <td>0.2045</td>\n",
       "      <td>0.1318</td>\n",
       "      <td>1</td>\n",
       "      <td>0.0044</td>\n",
       "      <td>0.0485</td>\n",
       "      <td>4.8696</td>\n",
       "      <td>0.3616</td>\n",
       "      <td>0.0083</td>\n",
       "      <td>-1</td>\n",
       "      <td>0.2522</td>\n",
       "      <td>0.2174</td>\n",
       "      <td>1</td>\n",
       "      <td>0.0049</td>\n",
       "      <td>2</td>\n",
       "      <td>\"</td>\n",
       "    </tr>\n",
       "    <tr>\n",
       "      <th>3</th>\n",
       "      <td>0.0667</td>\n",
       "      <td>16.7552</td>\n",
       "      <td>0.2513</td>\n",
       "      <td>0.1160</td>\n",
       "      <td>-1</td>\n",
       "      <td>0.2567</td>\n",
       "      <td>0.2101</td>\n",
       "      <td>1</td>\n",
       "      <td>0.0168</td>\n",
       "      <td>0.0651</td>\n",
       "      <td>16.6164</td>\n",
       "      <td>0.3676</td>\n",
       "      <td>0.0187</td>\n",
       "      <td>-1</td>\n",
       "      <td>0.2462</td>\n",
       "      <td>0.2124</td>\n",
       "      <td>1</td>\n",
       "      <td>0.0166</td>\n",
       "      <td>3</td>\n",
       "      <td>\"</td>\n",
       "    </tr>\n",
       "    <tr>\n",
       "      <th>4</th>\n",
       "      <td>0.0834</td>\n",
       "      <td>16.6555</td>\n",
       "      <td>0.2566</td>\n",
       "      <td>0.0306</td>\n",
       "      <td>-1</td>\n",
       "      <td>0.2800</td>\n",
       "      <td>0.2289</td>\n",
       "      <td>1</td>\n",
       "      <td>0.0167</td>\n",
       "      <td>0.0818</td>\n",
       "      <td>16.7150</td>\n",
       "      <td>0.3632</td>\n",
       "      <td>0.0060</td>\n",
       "      <td>-1</td>\n",
       "      <td>0.2404</td>\n",
       "      <td>0.2106</td>\n",
       "      <td>1</td>\n",
       "      <td>0.0167</td>\n",
       "      <td>4</td>\n",
       "      <td>\"</td>\n",
       "    </tr>\n",
       "  </tbody>\n",
       "</table>\n",
       "</div>"
      ],
      "text/plain": [
       "      ATT      ADT     ALX     ALY  ARI     APW     APH  AQU     AFX     BTT  \\\n",
       "0  0.0000   0.0000  0.2349  0.1531   -1  0.2055  0.1947    1  0.0167 -0.0016   \n",
       "1  0.0456  45.6178  0.2377  0.1022   -1  0.2315  0.1978    1  0.0623  0.0436   \n",
       "2  0.0500   4.3726  0.2624  0.3642   -1  0.2045  0.1318    1  0.0044  0.0485   \n",
       "3  0.0667  16.7552  0.2513  0.1160   -1  0.2567  0.2101    1  0.0168  0.0651   \n",
       "4  0.0834  16.6555  0.2566  0.0306   -1  0.2800  0.2289    1  0.0167  0.0818   \n",
       "\n",
       "       BDT     BLX     BLY  BRI     BPW     BPH  BQU     BFX  CNT   MRK  \n",
       "0  -1.6466  0.3625 -0.0238   -1  0.2552  0.2234    1  0.0166    0  +,+\"  \n",
       "1  45.2731  0.3630 -0.0154   -1  0.2483  0.2175    1  0.0453    1     \"  \n",
       "2   4.8696  0.3616  0.0083   -1  0.2522  0.2174    1  0.0049    2     \"  \n",
       "3  16.6164  0.3676  0.0187   -1  0.2462  0.2124    1  0.0166    3     \"  \n",
       "4  16.7150  0.3632  0.0060   -1  0.2404  0.2106    1  0.0167    4     \"  "
      ]
     },
     "execution_count": 159,
     "metadata": {},
     "output_type": "execute_result"
    }
   ],
   "source": [
    "data.head()"
   ]
  },
  {
   "cell_type": "code",
   "execution_count": 160,
   "metadata": {},
   "outputs": [],
   "source": [
    "temp = pd.DataFrame(pd.DataFrame({\"X\": data.ALX.loc[(data.ATT >= 2 + 5 * i) & (data.ATT < 7  + 5 * i)],\n",
    "                            \"Y\": data.ALY.loc[(data.ATT >= 2 + 5 * i) & (data.ATT < 7  + 5 * i)]}).apply(np.mean)).transpose()\n",
    "temp = pd.concat([temp, pd.DataFrame(pd.DataFrame({\"X\": data.ALX.loc[(data.ATT >= 2 + 5 * i) & (data.ATT < 7  + 5 * i)],\n",
    "                            \"Y\": data.ALY.loc[(data.ATT >= 2 + 5 * i) & (data.ATT < 7  + 5 * i)]}).apply(np.median)).transpose()])"
   ]
  },
  {
   "cell_type": "code",
   "execution_count": 162,
   "metadata": {},
   "outputs": [],
   "source": [
    "def timecut(data):\n",
    "    temps = pd.DataFrame()\n",
    "    x=[0.1,11/30,0.9,0.1,0.9,0.9,0.1,19/30,19/30,11/30,19/30,11/30,11/30,0.9,0.1,19/30]\n",
    "    y = [0.1,19/30,0.9,11/30,19/30,0.1,0.9,0.9,0.1,0.9,19/30,0.1,11/30,11/30,19/30,11/30]\n",
    "    for i in range(0, 16):\n",
    "        temp = pd.DataFrame({\"X\": data.ALX.loc[(data.ATT >= 2 + 5 * i) & (data.ATT < 7  + 5 * i)],\n",
    "                            \"Y\": data.ALY.loc[(data.ATT >= 2 + 5 * i) & (data.ATT < 7  + 5 * i)]})\n",
    "        temp = pd.concat([temp.reset_index(), pd.DataFrame( {\"x\":[x[i]]*temp.shape[0]} ), pd.DataFrame({\"y\":[y[i]]*temp.shape[0]}) ], axis = 1)\n",
    "        temps = pd.concat([temps, temp])\n",
    "    return temps\n",
    "\n",
    "def timemean(data):\n",
    "    temps = pd.DataFrame()\n",
    "    x=[0.1,11/30,0.9,0.1,0.9,0.9,0.1,19/30,19/30,11/30,19/30,11/30,11/30,0.9,0.1,19/30]\n",
    "    y = [0.1,19/30,0.9,11/30,19/30,0.1,0.9,0.9,0.1,0.9,19/30,0.1,11/30,11/30,19/30,11/30]\n",
    "    for i in range(0, 16):\n",
    "        temp = pd.DataFrame(pd.DataFrame({\"X\": data.ALX.loc[(data.ATT >= 2 + 5 * i) & (data.ATT < 7  + 5 * i)],\n",
    "                            \"Y\": data.ALY.loc[(data.ATT >= 2 + 5 * i) & (data.ATT < 7  + 5 * i)]}).apply(np.mean)).transpose()\n",
    "        temp = pd.concat([temp, pd.DataFrame( {\"x\":[x[i]]*temp.shape[0]} ), pd.DataFrame({\"y\":[y[i]]*temp.shape[0]}) ], axis = 1)\n",
    "        temps = pd.concat([temps, temp])\n",
    "    return temps\n",
    "\n",
    "def times(data):\n",
    "    temps = pd.DataFrame()\n",
    "    x=[0.1,11/30,0.9,0.1,0.9,0.9,0.1,19/30,19/30,11/30,19/30,11/30,11/30,0.9,0.1,19/30]\n",
    "    y = [0.1,19/30,0.9,11/30,19/30,0.1,0.9,0.9,0.1,0.9,19/30,0.1,11/30,11/30,19/30,11/30]\n",
    "    for i in range(0, 16):\n",
    "        temp = pd.DataFrame(pd.DataFrame({\"X\": data.ALX.loc[(data.ATT >= 2 + 5 * i) & (data.ATT < 7  + 5 * i)],\n",
    "                            \"Y\": data.ALY.loc[(data.ATT >= 2 + 5 * i) & (data.ATT < 7  + 5 * i)]}).apply(np.mean)).transpose()\n",
    "        temp = pd.concat([temp, pd.DataFrame(pd.DataFrame({\"X\": data.ALX.loc[(data.ATT >= 2 + 5 * i) & (data.ATT < 7  + 5 * i)],\n",
    "                            \"Y\": data.ALY.loc[(data.ATT >= 2 + 5 * i) & (data.ATT < 7  + 5 * i)]}).apply(np.median)).transpose()])\n",
    "        temp = pd.concat([temp.reset_index(), pd.DataFrame( {\"x\":[x[i]]*temp.shape[0]} ),  pd.DataFrame({\"y\":[y[i]]*temp.shape[0]}) ], axis = 1)\n",
    "        temps = pd.concat([temps, temp])\n",
    "    return temps\n"
   ]
  },
  {
   "cell_type": "code",
   "execution_count": 163,
   "metadata": {},
   "outputs": [],
   "source": [
    "a = timecut(data)\n",
    "b = timemean(data)\n",
    "c = times(data)"
   ]
  },
  {
   "cell_type": "code",
   "execution_count": 164,
   "metadata": {},
   "outputs": [],
   "source": [
    "coords = np.array([[0.5,x,y, x*y, x**2, y**2] for x, y in zip(a.X, a.Y)])\n",
    "points = np.array([[x,y] for x, y in zip(a.x, a.y)])"
   ]
  },
  {
   "cell_type": "code",
   "execution_count": 137,
   "metadata": {},
   "outputs": [
    {
     "name": "stdout",
     "output_type": "stream",
     "text": [
      "Warning: Maximum number of function evaluations has been exceeded.\n",
      "[[ 0.68166882  1.09895474]\n",
      " [-1.1189841  -0.86331957]\n",
      " [ 2.73571935  1.03733348]\n",
      " [ 3.22747054  0.90049702]\n",
      " [-0.56690243  0.08990023]\n",
      " [-2.85187969 -0.85348067]]\n"
     ]
    }
   ],
   "source": [
    "sdw = minis(coords, points,6)"
   ]
  },
  {
   "cell_type": "code",
   "execution_count": 171,
   "metadata": {},
   "outputs": [],
   "source": [
    "coords = np.array([[0.5,x,y, x*y] for x, y in zip(b.X, b.Y)])\n",
    "points = np.array([[x,y] for x, y in zip(b.x, b.y)])"
   ]
  },
  {
   "cell_type": "code",
   "execution_count": 172,
   "metadata": {},
   "outputs": [
    {
     "name": "stdout",
     "output_type": "stream",
     "text": [
      "Optimization terminated successfully.\n",
      "         Current function value: 0.031576\n",
      "         Iterations: 915\n",
      "         Function evaluations: 1328\n",
      "[[ 0.20642149  0.2042506 ]\n",
      " [ 1.18151933  0.19849912]\n",
      " [-0.07968755  1.04299219]\n",
      " [-0.2274587  -0.3772475 ]]\n"
     ]
    }
   ],
   "source": [
    "sdw = minis(coords, points,4)"
   ]
  },
  {
   "cell_type": "code",
   "execution_count": 173,
   "metadata": {},
   "outputs": [
    {
     "name": "stdout",
     "output_type": "stream",
     "text": [
      "Optimization terminated successfully.\n",
      "         Current function value: 0.073001\n",
      "         Iterations: 932\n",
      "         Function evaluations: 1352\n",
      "[[ 0.25090079  0.26414552]\n",
      " [ 1.13285911  0.17606828]\n",
      " [-0.08335907  0.99892484]\n",
      " [-0.15711155 -0.31771659]]\n"
     ]
    }
   ],
   "source": [
    "coords = np.array([[0.5,x,y, x*y] for x, y in zip(c.X, c.Y)])\n",
    "points = np.array([[x,y] for x, y in zip(c.x, c.y)])\n",
    "sdw = minis(coords, points, 4)"
   ]
  },
  {
   "cell_type": "code",
   "execution_count": 132,
   "metadata": {},
   "outputs": [
    {
     "data": {
      "text/plain": [
       "array([[0.15288631, 0.1253483 ],\n",
       "       [0.13170837, 0.10273026],\n",
       "       [0.41515152, 0.58312534],\n",
       "       [0.35729171, 0.54529322],\n",
       "       [0.85867609, 0.88347422],\n",
       "       [0.90793249, 0.96460586],\n",
       "       [0.17138149, 0.37686822],\n",
       "       [0.01149564, 0.31957954],\n",
       "       [0.89189574, 0.50010975],\n",
       "       [0.89275698, 0.52728133],\n",
       "       [0.84962876, 0.13480747],\n",
       "       [0.90646675, 0.04852086],\n",
       "       [0.20791937, 0.87841713],\n",
       "       [0.06494046, 0.76985432],\n",
       "       [0.62734038, 0.87170568],\n",
       "       [0.63039965, 0.90438864],\n",
       "       [0.61479294, 0.07186186],\n",
       "       [0.62812634, 0.03744038],\n",
       "       [0.3701105 , 0.82493482],\n",
       "       [0.36286978, 0.8306843 ],\n",
       "       [0.64360908, 0.64095734],\n",
       "       [0.6212269 , 0.62430913],\n",
       "       [0.49885876, 0.19234134],\n",
       "       [0.36015661, 0.09987303],\n",
       "       [0.30019001, 0.3713596 ],\n",
       "       [0.29423585, 0.36892339],\n",
       "       [0.96482872, 0.47633092],\n",
       "       [0.86088615, 0.4067519 ],\n",
       "       [0.13943878, 0.80277502],\n",
       "       [0.02793305, 0.73356228],\n",
       "       [0.66620111, 0.52057135],\n",
       "       [0.56867318, 0.46111574]])"
      ]
     },
     "execution_count": 132,
     "metadata": {},
     "output_type": "execute_result"
    }
   ],
   "source": [
    "sdw"
   ]
  },
  {
   "cell_type": "code",
   "execution_count": 2,
   "metadata": {},
   "outputs": [],
   "source": [
    "def mini(xy, points):\n",
    "    \n",
    "    def ft(a):\n",
    "        a = a.reshape(2,2)\n",
    "        coords = np.matmul(xy,a)\n",
    "        distance = []\n",
    "        dists = np.sum((coords[:, np.newaxis, :] - points[np.newaxis, ::])**2, axis = 2)\n",
    "        for i in dists:\n",
    "            distance.append(np.min(i))\n",
    "        return sum(distance)/len(distance)\n",
    "    \n",
    "    transfer = optim(ft, np.eye(2))\n",
    "    transfer = transfer.reshape(2,2)\n",
    "    print(transfer)\n",
    "    C = np.matmul(xy, transfer)\n",
    "    return C \n",
    "    \n",
    "    "
   ]
  },
  {
   "cell_type": "code",
   "execution_count": 3,
   "metadata": {},
   "outputs": [],
   "source": [
    "def mini3(xy, points):\n",
    "    \n",
    "    def ft(a):\n",
    "        a = a.reshape(3,2)\n",
    "        coords = np.matmul(xy,a)\n",
    "        distance = []\n",
    "        dists = np.sum((coords[:, np.newaxis, :] - points[np.newaxis, ::])**2, axis = 2)\n",
    "        for i in dists:\n",
    "            distance.append(np.min(i))\n",
    "        return sum(distance)/len(distance)\n",
    "    \n",
    "    transfer = optim(ft, np.ones([3,2]))\n",
    "    transfer = transfer.reshape(3,2)\n",
    "    print(transfer)\n",
    "    C = np.matmul(xy, transfer)\n",
    "    return C \n",
    "    \n",
    "    "
   ]
  },
  {
   "cell_type": "code",
   "execution_count": 72,
   "metadata": {},
   "outputs": [],
   "source": [
    "def mini4(xy, points):\n",
    "    \n",
    "    def ft(a):\n",
    "        a = a.reshape(4,2)\n",
    "        coords = np.matmul(xy,a)\n",
    "        dists = np.sum((coords - points)**2, axis = 1)\n",
    "        return sum(dists)\n",
    "    \n",
    "    transfer = optim(ft, np.ones([4,2]))\n",
    "    transfer = transfer.reshape(4,2)\n",
    "    print(transfer)\n",
    "    C = np.matmul(xy, transfer)\n",
    "    return C \n",
    "    \n",
    "    "
   ]
  }
 ],
 "metadata": {
  "kernelspec": {
   "display_name": "Python 3",
   "language": "python",
   "name": "python3"
  },
  "language_info": {
   "codemirror_mode": {
    "name": "ipython",
    "version": 3
   },
   "file_extension": ".py",
   "mimetype": "text/x-python",
   "name": "python",
   "nbconvert_exporter": "python",
   "pygments_lexer": "ipython3",
   "version": "3.7.1"
  }
 },
 "nbformat": 4,
 "nbformat_minor": 2
}
